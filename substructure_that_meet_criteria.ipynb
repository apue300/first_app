{
 "cells": [
  {
   "cell_type": "code",
   "execution_count": 1,
   "metadata": {},
   "outputs": [],
   "source": [
    "from rdkit import Chem\n",
    "from rdkit.Chem import Draw\n",
    "from rdkit.Chem.Draw import rdMolDraw2D"
   ]
  },
  {
   "cell_type": "markdown",
   "metadata": {},
   "source": [
    "# 一、简单子结构搜索"
   ]
  },
  {
   "cell_type": "markdown",
   "metadata": {},
   "source": [
    "## 1.初始化\n",
    "* 初始化分子及子结构"
   ]
  },
  {
   "cell_type": "code",
   "execution_count": 2,
   "metadata": {},
   "outputs": [],
   "source": [
    "m = Chem.MolFromSmiles('C2NCC2CC1C(CCCC)C(OCCCC)C1c2ccccc2')\n",
    "p = Chem.MolFromSmarts('C1CCC1*')"
   ]
  },
  {
   "cell_type": "markdown",
   "metadata": {},
   "source": [
    "## 2. 获取所有匹配的结构\n",
    "* 获取所有匹配的结构：GetSubstructMatches()<br />\n",
    "返回值是原分子中与子结构匹配的原子索引"
   ]
  },
  {
   "cell_type": "code",
   "execution_count": 3,
   "metadata": {},
   "outputs": [
    {
     "data": {
      "text/plain": [
       "((5, 6, 11, 17, 18), (5, 17, 11, 6, 7), (6, 5, 17, 11, 12), (6, 11, 17, 5, 4))"
      ]
     },
     "execution_count": 3,
     "metadata": {},
     "output_type": "execute_result"
    }
   ],
   "source": [
    "matches = m.GetSubstructMatches(p)\n",
    "matches"
   ]
  },
  {
   "cell_type": "markdown",
   "metadata": {},
   "source": [
    "## 3. 查看匹配的结构\n",
    "* 查看匹配的结构"
   ]
  },
  {
   "cell_type": "code",
   "execution_count": 4,
   "metadata": {},
   "outputs": [
    {
     "data": {
      "image/png": "[encoded data removed]",
      "text/plain": [
       "<PIL.PngImagePlugin.PngImageFile image mode=RGB size=300x300 at 0x6378A48>"
      ]
     },
     "execution_count": 4,
     "metadata": {},
     "output_type": "execute_result"
    }
   ],
   "source": [
    "Draw.MolToImage(m, highlightAtoms=matches[2])"
   ]
  },
  {
   "cell_type": "markdown",
   "metadata": {},
   "source": [
    "* 绘制保存"
   ]
  },
  {
   "cell_type": "code",
   "execution_count": 5,
   "metadata": {},
   "outputs": [],
   "source": [
    "d = rdMolDraw2D.MolDraw2DCairo(250, 250)\n",
    "rdMolDraw2D.PrepareAndDrawMolecule(d, m, highlightAtoms=list(matches[1]))\n",
    "d.FinishDrawing()\n",
    "d.WriteDrawingText('data/simple_structure.png')"
   ]
  },
  {
   "cell_type": "markdown",
   "metadata": {},
   "source": [
    "# 二、带条件的子结构搜索\n",
    "2020.03版本以后，rdkit提供了一个可选功能，用于检查并筛选出符合条件的子结构。使用的时候把这段代码粘过去，按流程操作就好了。条件可以在matchers中定义，符合matchers中指定条件的子结构才会被返回。\n",
    "\n",
    "这个函数需要提供原始的分子和匹配原子的索引。\n",
    "\n",
    "## 1.定义条件\n",
    "* 假设要寻找一个侧链都带芳香性的子结构<br />\n",
    "只需要修改matchers字典，向matchers中添加一个键值对，键为\"all_aromatic\"，值为判断每个原子的芳香性。"
   ]
  },
  {
   "cell_type": "code",
   "execution_count": 6,
   "metadata": {},
   "outputs": [],
   "source": [
    "class SidechainChecker(object):\n",
    "    # 添加条件\n",
    "    matchers = {'alkyl':lambda at: not at.GetIsAromatic(),\n",
    "                'all_carbon':lambda at: at.GetAtomicNum() == 6,\n",
    "                'all_aromatic':lambda at: at.GetIsAromatic()}\n",
    "    \n",
    "    def __init__(self, query, pName='queryType'):\n",
    "        # atom: [(idx, prop), ()]\n",
    "        self._atsToExamin = [(x.GetIdx(), x.GetProp(pName)) for x in query.GetAtoms()\n",
    "                              if x.HasProp(pName)]\n",
    "        self._pName = pName\n",
    "        \n",
    "    def __call__(self, mol, vect):\n",
    "        seen = [0] * mol.GetNumAtoms()\n",
    "        for idx in vect:\n",
    "            seen[idx] = 1\n",
    "        for idx, qtyp in self._atsToExamin:\n",
    "            midx = vect[idx]\n",
    "            stack = [midx]\n",
    "            atom = mol.GetAtomWithIdx(midx)\n",
    "            stack = [atom]\n",
    "            while stack:\n",
    "                atom = stack.pop(0)\n",
    "                if not self.matchers[qtyp](atom):\n",
    "                    return False\n",
    "                seen[atom.GetIdx()] = 1\n",
    "                for nbr in atom.GetNeighbors():\n",
    "                    if not seen[nbr.GetIdx()]:\n",
    "                        stack.append(nbr)\n",
    "        return True"
   ]
  },
  {
   "cell_type": "markdown",
   "metadata": {},
   "source": [
    "## 2. 对侧链设置条件\n",
    "* 给原子设置条件：SetProp(key, values)<br />\n",
    "key：属性名<br />\n",
    "values：属性值<br />\n",
    "注：p中第五个原子（索引为4），即\"*\"，表示与p连接的侧链。\n",
    "* 这里需要侧链带有芳香性的子结构"
   ]
  },
  {
   "cell_type": "code",
   "execution_count": 7,
   "metadata": {},
   "outputs": [],
   "source": [
    "atom = p.GetAtomWithIdx(4)\n",
    "atom.SetProp(\"queryType\", \"all_aromatic\")"
   ]
  },
  {
   "cell_type": "markdown",
   "metadata": {},
   "source": [
    "* 查看所有属性：GetPropNames()\n",
    "* 查看属性值：GetProp(key)"
   ]
  },
  {
   "cell_type": "code",
   "execution_count": 8,
   "metadata": {},
   "outputs": [
    {
     "name": "stdout",
     "output_type": "stream",
     "text": [
      "['queryType']\n"
     ]
    },
    {
     "data": {
      "text/plain": [
       "'all_aromatic'"
      ]
     },
     "execution_count": 8,
     "metadata": {},
     "output_type": "execute_result"
    }
   ],
   "source": [
    "print(list(atom.GetPropNames()))\n",
    "atom.GetProp('queryType')"
   ]
  },
  {
   "cell_type": "markdown",
   "metadata": {},
   "source": [
    "## 3. 使用条件进行筛选\n",
    "* 返回侧链都带有芳香性的子结构："
   ]
  },
  {
   "cell_type": "code",
   "execution_count": 9,
   "metadata": {},
   "outputs": [
    {
     "data": {
      "text/plain": [
       "((5, 6, 11, 17, 18),)"
      ]
     },
     "execution_count": 9,
     "metadata": {},
     "output_type": "execute_result"
    }
   ],
   "source": [
    "params = Chem.SubstructMatchParameters()\n",
    "checker = SidechainChecker(p)\n",
    "params.setExtraFinalCheck(checker)\n",
    "matches = m.GetSubstructMatches(p, params)\n",
    "matches"
   ]
  },
  {
   "cell_type": "code",
   "execution_count": 10,
   "metadata": {},
   "outputs": [
    {
     "data": {
      "image/png": "[encoded data removed]",
      "text/plain": [
       "<PIL.PngImagePlugin.PngImageFile image mode=RGB size=300x300 at 0x790CCC8>"
      ]
     },
     "execution_count": 10,
     "metadata": {},
     "output_type": "execute_result"
    }
   ],
   "source": [
    "Draw.MolToImage(m, highlightAtoms=matches[0])"
   ]
  },
  {
   "cell_type": "code",
   "execution_count": 11,
   "metadata": {},
   "outputs": [],
   "source": [
    "d = rdMolDraw2D.MolDraw2DCairo(250, 250)\n",
    "rdMolDraw2D.PrepareAndDrawMolecule(d, m, highlightAtoms=list(matches[0]))\n",
    "d.FinishDrawing()\n",
    "d.WriteDrawingText('data/advance_structure.png')"
   ]
  },
  {
   "cell_type": "markdown",
   "metadata": {},
   "source": [
    "## 4. 其他条件举例\n",
    "* 返回侧链只含有碳的子结构，重新设置属性：SetProp(\"queryType\", \"all_carbon\")<br />\n",
    "注：all_carbon需要提取在matchers中定义好"
   ]
  },
  {
   "cell_type": "code",
   "execution_count": 12,
   "metadata": {},
   "outputs": [
    {
     "data": {
      "text/plain": [
       "((5, 6, 11, 17, 18), (5, 17, 11, 6, 7))"
      ]
     },
     "execution_count": 12,
     "metadata": {},
     "output_type": "execute_result"
    }
   ],
   "source": [
    "atom = p.GetAtomWithIdx(4)\n",
    "atom.SetProp(\"queryType\", \"all_carbon\")\n",
    "params = Chem.SubstructMatchParameters()\n",
    "checker = SidechainChecker(p)\n",
    "params.setExtraFinalCheck(checker)\n",
    "matches = m.GetSubstructMatches(p, params)\n",
    "matches"
   ]
  },
  {
   "cell_type": "code",
   "execution_count": 13,
   "metadata": {},
   "outputs": [
    {
     "data": {
      "image/png": "[encoded data removed]",
      "text/plain": [
       "<PIL.PngImagePlugin.PngImageFile image mode=RGB size=300x300 at 0x78F2F48>"
      ]
     },
     "execution_count": 13,
     "metadata": {},
     "output_type": "execute_result"
    }
   ],
   "source": [
    "Draw.MolToImage(m, highlightAtoms=matches[1])"
   ]
  }
 ],
 "metadata": {
  "kernelspec": {
   "display_name": "Python 3",
   "language": "python",
   "name": "python3"
  },
  "language_info": {
   "codemirror_mode": {
    "name": "ipython",
    "version": 3
   },
   "file_extension": ".py",
   "mimetype": "text/x-python",
   "name": "python",
   "nbconvert_exporter": "python",
   "pygments_lexer": "ipython3",
   "version": "3.7.4"
  }
 },
 "nbformat": 4,
 "nbformat_minor": 4
}
