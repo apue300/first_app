{
 "cells": [
  {
   "cell_type": "markdown",
   "metadata": {},
   "source": [
    "# 一、摩根分子指纹计算\n",
    "## 1.简介\n",
    "摩根分子指纹（Morgan Fingerprints），是一种圆形指纹，也属于拓扑型指纹，是通过对标准的摩根算法进行改造后得到。可以大致等同于扩展连通性指纹（Extended-Connectivity Fingerprints，ECFPs）。\n",
    "\n",
    "这类指纹有诸多优点，例如计算速度快、没有经过预定义（可以表示无穷多种不同的分子特征）、可以包含手性信息、指纹中的每个元素代表一种特定子结构、可以方便地进行分析和解释、可以根据不同的需要进行相应的修改等。这类指纹设计的最初目的是用于搜索与活性相关的分子特征，而非子结构搜索。此外也可以用于相似性搜索、聚类、虚拟筛选等方向。指纹的生成过程大致分为以下几个步骤：\n",
    " - 原子初始化。为每个重原子分配一个整数标识符\n",
    " - 迭代更新。以每个重原子为中心，将周围一圈的重原子合并进来，直到到达指定半径。\n",
    " - 特征生成。对子结构进行运算，并生成特征列表。\n",
    " \n",
    "更多内容可以[参考ChemAxon的介绍](https://blog.csdn.net/dreadlesss/article/details/105590719)，还有[ECFPs的文章](http://pubs.acs.org/doi/abs/10.1021/ci100050t)。\n",
    "\n",
    "ECFPs可以捕捉到精确的子结构细节，相对应的，功能基指纹（Functional class fingerprints，FCFPs）则更为泛化，可以将同一类功能基作为一种特征结构。在rdkit中两种特征都可以通过GetMorganFingerprint实现。\n",
    "\n",
    "* 初始化"
   ]
  },
  {
   "cell_type": "code",
   "execution_count": 1,
   "metadata": {},
   "outputs": [
    {
     "data": {
      "image/png": "[encoded data removed]",
      "text/plain": [
       "<PIL.PngImagePlugin.PngImageFile image mode=RGB size=450x150 at 0x782E2C8>"
      ]
     },
     "execution_count": 1,
     "metadata": {},
     "output_type": "execute_result"
    }
   ],
   "source": [
    "from rdkit import Chem\n",
    "from rdkit import DataStructs\n",
    "from rdkit.Chem import AllChem\n",
    "from rdkit.Chem import Draw\n",
    "m1 = Chem.MolFromSmiles('ClC1=COCNC1')\n",
    "m2 = Chem.MolFromSmiles('BrC1=COCNC1')\n",
    "img = Draw.MolsToGridImage([m1, m2], subImgSize=(150, 150), legends=['ClC1CNCOC1', 'BrC1CNCOC1'])\n",
    "img"
   ]
  },
  {
   "cell_type": "code",
   "execution_count": 2,
   "metadata": {},
   "outputs": [],
   "source": [
    "img.save('data/morgan_sample.png')"
   ]
  },
  {
   "cell_type": "markdown",
   "metadata": {},
   "source": [
    "## 2.SparseIntVects\n",
    "* 以SparseIntVects方式生成ECFPs指纹：GetMorganFingerprint(mol, radius, ...)<br />\n",
    "或者称为SparseBitVects<br />\n",
    "mol：mol对象<br />\n",
    "radius：考虑半径"
   ]
  },
  {
   "cell_type": "code",
   "execution_count": 3,
   "metadata": {},
   "outputs": [
    {
     "data": {
      "text/plain": [
       "0.7"
      ]
     },
     "execution_count": 3,
     "metadata": {},
     "output_type": "execute_result"
    }
   ],
   "source": [
    "fp1 = AllChem.GetMorganFingerprint(m1, 2)\n",
    "fp2 = AllChem.GetMorganFingerprint(m2, 2)\n",
    "DataStructs.DiceSimilarity(fp1, fp2)"
   ]
  },
  {
   "cell_type": "markdown",
   "metadata": {},
   "source": [
    "* 查看长度：GetLength()<br />\n",
    "返回指纹的长度\n",
    "* 查看非空元素：GetNonzeroElements()<br />\n",
    "返回值是一个字典，键对应非空指纹的位数，值是指纹出现的频数"
   ]
  },
  {
   "cell_type": "code",
   "execution_count": 4,
   "metadata": {},
   "outputs": [
    {
     "name": "stdout",
     "output_type": "stream",
     "text": [
      "4294967295\n",
      "{39328034: 1, 211414882: 1, 362715007: 1, 397705891: 1, 718785834: 1, 1016841875: 1, 1078999752: 1, 1289643292: 1, 2132511834: 1, 2626911012: 1, 2968968094: 2, 3145053355: 1, 3189457552: 1, 3217380708: 1, 3218693969: 1, 3452535345: 1, 3916672621: 1, 4196496269: 1, 4217154750: 1}\n"
     ]
    }
   ],
   "source": [
    "print(fp1.GetLength())\n",
    "print(fp1.GetNonzeroElements())"
   ]
  },
  {
   "cell_type": "markdown",
   "metadata": {},
   "source": [
    "## 3.ExplicitBitVects\n",
    "* 以ExplicitBitVects方式生成ECFPs指纹：GetMorganFingerprintAsBitVect(mol, radius, nBits, ...)<br />\n",
    "radius：考虑半径<br />\n",
    "nBits：长度"
   ]
  },
  {
   "cell_type": "code",
   "execution_count": 5,
   "metadata": {},
   "outputs": [
    {
     "data": {
      "text/plain": [
       "0.6842105263157895"
      ]
     },
     "execution_count": 5,
     "metadata": {},
     "output_type": "execute_result"
    }
   ],
   "source": [
    "fp1 = AllChem.GetMorganFingerprintAsBitVect(m1, 2, nBits=1024)\n",
    "fp2 = AllChem.GetMorganFingerprintAsBitVect(m2, 2, nBits=1024)\n",
    "DataStructs.DiceSimilarity(fp1, fp2)"
   ]
  },
  {
   "cell_type": "markdown",
   "metadata": {},
   "source": [
    "## 4.FCFPs\n",
    "* 通过设置useFeatures=True生成FCFPs <br /> \n",
    "可以看到ffp1和ffp2完全一致，即Cl和Br在特征上被归为一类"
   ]
  },
  {
   "cell_type": "code",
   "execution_count": 6,
   "metadata": {},
   "outputs": [
    {
     "data": {
      "text/plain": [
       "1.0"
      ]
     },
     "execution_count": 6,
     "metadata": {},
     "output_type": "execute_result"
    }
   ],
   "source": [
    "ffp1 = AllChem.GetMorganFingerprint(m1, 2, useFeatures=True)\n",
    "ffp2 = AllChem.GetMorganFingerprint(m2, 2, useFeatures=True)\n",
    "DataStructs.DiceSimilarity(ffp1, ffp2)"
   ]
  },
  {
   "cell_type": "code",
   "execution_count": 7,
   "metadata": {},
   "outputs": [
    {
     "data": {
      "text/plain": [
       "1.0"
      ]
     },
     "execution_count": 7,
     "metadata": {},
     "output_type": "execute_result"
    }
   ],
   "source": [
    "ffp1 = AllChem.GetMorganFingerprintAsBitVect(m1, 2, nBits=10, useFeatures=True)\n",
    "ffp2 = AllChem.GetMorganFingerprintAsBitVect(m2, 2, nBits=10, useFeatures=True)\n",
    "DataStructs.DiceSimilarity(ffp1, ffp2)"
   ]
  },
  {
   "cell_type": "markdown",
   "metadata": {},
   "source": [
    "* 查看向量长度：GetNumBits()\n",
    "* 将指纹转成字符串：ToBitString()"
   ]
  },
  {
   "cell_type": "code",
   "execution_count": 8,
   "metadata": {},
   "outputs": [
    {
     "name": "stdout",
     "output_type": "stream",
     "text": [
      "10\n",
      "1111101111\n"
     ]
    }
   ],
   "source": [
    "print(ffp1.GetNumBits())\n",
    "print(ffp1.ToBitString())"
   ]
  },
  {
   "cell_type": "markdown",
   "metadata": {},
   "source": [
    "## 5.更多泛化\n",
    "* 通过设置invariants，忽略原子类型，关注分子骨架"
   ]
  },
  {
   "cell_type": "code",
   "execution_count": 9,
   "metadata": {},
   "outputs": [
    {
     "data": {
      "text/plain": [
       "True"
      ]
     },
     "execution_count": 9,
     "metadata": {},
     "output_type": "execute_result"
    }
   ],
   "source": [
    "m2 = Chem.MolFromSmiles('BrC1=CCCCC1')\n",
    "m3 = Chem.MolFromSmiles('BrC1CCCCC1')\n",
    "Draw.MolsToGridImage([m1, m2, m3], subImgSize=(200, 150))\n",
    "fp1 = AllChem.GetMorganFingerprint(m1, 2, invariants=[1]*m1.GetNumAtoms())\n",
    "fp2 = AllChem.GetMorganFingerprint(m2, 2, invariants=[1]*m2.GetNumAtoms())\n",
    "fp3 = AllChem.GetMorganFingerprint(m3, 2, invariants=[1]*m3.GetNumAtoms())\n",
    "fp1 == fp2"
   ]
  },
  {
   "cell_type": "code",
   "execution_count": 10,
   "metadata": {},
   "outputs": [
    {
     "data": {
      "image/png": "[encoded data removed]",
      "text/plain": [
       "<PIL.PngImagePlugin.PngImageFile image mode=RGB size=600x150 at 0x78EAC08>"
      ]
     },
     "execution_count": 10,
     "metadata": {},
     "output_type": "execute_result"
    }
   ],
   "source": [
    "img = Draw.MolsToGridImage([m1, m2, m3], subImgSize=(200, 150), legends=['m1', 'm2', 'm3'])\n",
    "img"
   ]
  },
  {
   "cell_type": "code",
   "execution_count": 11,
   "metadata": {},
   "outputs": [],
   "source": [
    "img.save('data/morgan_sample2.png')"
   ]
  },
  {
   "cell_type": "markdown",
   "metadata": {},
   "source": [
    "* 可以看到指纹忽略了N和C的差异，fp1和fp2指纹一致，但这个时候还会考虑键的信息。例如比较fp1和fp3，它们是不相等的。"
   ]
  },
  {
   "cell_type": "code",
   "execution_count": 12,
   "metadata": {},
   "outputs": [
    {
     "data": {
      "text/plain": [
       "False"
      ]
     },
     "execution_count": 12,
     "metadata": {},
     "output_type": "execute_result"
    }
   ],
   "source": [
    "fp1 == fp3"
   ]
  },
  {
   "cell_type": "markdown",
   "metadata": {},
   "source": [
    "* 通过设置useBondTypes，忽略键的类型"
   ]
  },
  {
   "cell_type": "code",
   "execution_count": 13,
   "metadata": {},
   "outputs": [
    {
     "data": {
      "text/plain": [
       "True"
      ]
     },
     "execution_count": 13,
     "metadata": {},
     "output_type": "execute_result"
    }
   ],
   "source": [
    "fp1 = AllChem.GetMorganFingerprint(m1, 2, invariants=[1]*m1.GetNumAtoms(), useBondTypes=False)\n",
    "fp3 = AllChem.GetMorganFingerprint(m1, 2, invariants=[1]*m3.GetNumAtoms(), useBondTypes=False)\n",
    "fp1 == fp3"
   ]
  },
  {
   "cell_type": "markdown",
   "metadata": {},
   "source": [
    "# 二、摩根分子指纹提取\n",
    "* 在生成分子指纹过程中，通过向参数bitInfo传入字典，可以获取所有非空指纹信息 <br /> \n",
    "字典info键表示位的索引，值为原子索引、半径构成的元组，出现多个元组时，表示子结构出现了多次<br />\n",
    "键为2968968094的值中含有多个元组，表示原子索引为4,6，半径为0的子结构相同，都记录在这一位上"
   ]
  },
  {
   "cell_type": "code",
   "execution_count": 14,
   "metadata": {},
   "outputs": [
    {
     "data": {
      "text/plain": [
       "{39328034: ((1, 1),),\n",
       " 211414882: ((5, 2),),\n",
       " 362715007: ((6, 1),),\n",
       " 397705891: ((4, 1),),\n",
       " 718785834: ((1, 2),),\n",
       " 1016841875: ((0, 0),),\n",
       " 1078999752: ((3, 1),),\n",
       " 1289643292: ((5, 1),),\n",
       " 2132511834: ((5, 0),),\n",
       " 2626911012: ((4, 2),),\n",
       " 2968968094: ((4, 0), (6, 0)),\n",
       " 3145053355: ((2, 1),),\n",
       " 3189457552: ((3, 0),),\n",
       " 3217380708: ((1, 0),),\n",
       " 3218693969: ((2, 0),),\n",
       " 3452535345: ((0, 1),),\n",
       " 3916672621: ((6, 2),),\n",
       " 4196496269: ((2, 2),),\n",
       " 4217154750: ((3, 2),)}"
      ]
     },
     "execution_count": 14,
     "metadata": {},
     "output_type": "execute_result"
    }
   ],
   "source": [
    "info = {}\n",
    "fp_explain = AllChem.GetMorganFingerprint(m1, 2, bitInfo=info)\n",
    "info"
   ]
  },
  {
   "cell_type": "markdown",
   "metadata": {},
   "source": [
    "## 1.方法一\n",
    "* 以提取出211414882的结构为例，首先提取m1中，半径为2，第5个原子的结构 <br />\n",
    "submol接收提取出的子结构 <br />\n",
    "amap用于接收原子索引的映射关系，键为原始分子中的原子索引，值为子结构中的原子索引<br />\n",
    "env是被提取出的键的索引"
   ]
  },
  {
   "cell_type": "code",
   "execution_count": 15,
   "metadata": {},
   "outputs": [
    {
     "name": "stdout",
     "output_type": "stream",
     "text": [
      "{1: 4, 3: 0, 4: 1, 5: 2, 6: 3}\n",
      "[4, 5, 3, 6]\n"
     ]
    }
   ],
   "source": [
    "amap = {}\n",
    "env = Chem.FindAtomEnvironmentOfRadiusN(m1, 2, 5)\n",
    "submol=Chem.PathToSubmol(m1, env, atomMap=amap)\n",
    "print(amap)\n",
    "print(list(env))"
   ]
  },
  {
   "cell_type": "markdown",
   "metadata": {},
   "source": [
    "* 用SMILES表示该子结构"
   ]
  },
  {
   "cell_type": "code",
   "execution_count": 16,
   "metadata": {},
   "outputs": [
    {
     "data": {
      "text/plain": [
       "'CCNCO'"
      ]
     },
     "execution_count": 16,
     "metadata": {},
     "output_type": "execute_result"
    }
   ],
   "source": [
    "Chem.MolToSmiles(submol)"
   ]
  },
  {
   "cell_type": "markdown",
   "metadata": {},
   "source": [
    "* 以第5个原子为中心，用SMILES表示该子结构，可以看出是氮原子"
   ]
  },
  {
   "cell_type": "code",
   "execution_count": 17,
   "metadata": {},
   "outputs": [
    {
     "data": {
      "text/plain": [
       "'N(CO)CC'"
      ]
     },
     "execution_count": 17,
     "metadata": {},
     "output_type": "execute_result"
    }
   ],
   "source": [
    "Chem.MolToSmiles(submol, rootedAtAtom=amap[5], canonical=False)"
   ]
  },
  {
   "cell_type": "markdown",
   "metadata": {},
   "source": [
    "## 2.方法二\n",
    "* 遍历env中的所有键，获取键连接的所有原子，保存在atoms中 <br />\n",
    "通过给定分子，及要提取的原子信息、键信息，获取子结构"
   ]
  },
  {
   "cell_type": "code",
   "execution_count": 18,
   "metadata": {},
   "outputs": [
    {
     "data": {
      "text/plain": [
       "'N(CC)CO'"
      ]
     },
     "execution_count": 18,
     "metadata": {},
     "output_type": "execute_result"
    }
   ],
   "source": [
    "atoms=set()\n",
    "for bidx in env: \n",
    "    atoms.add(m1.GetBondWithIdx(bidx).GetBeginAtomIdx())\n",
    "    atoms.add(m1.GetBondWithIdx(bidx).GetEndAtomIdx())\n",
    "Chem.MolFragmentToSmiles(m1, atomsToUse=list(atoms), bondsToUse=env, rootedAtAtom=5)"
   ]
  },
  {
   "cell_type": "markdown",
   "metadata": {},
   "source": [
    "# 三、指纹可视化\n",
    "查看211414882代表的子结构\n",
    "* 绘制子结构：DrawMorganBit(mol, bitId, bitInfo, ...)<br />\n",
    "mol：mol对象<br />\n",
    "bitId：要查看的bit id<br />\n",
    "bitInfo：指纹信息"
   ]
  },
  {
   "cell_type": "code",
   "execution_count": 19,
   "metadata": {},
   "outputs": [
    {
     "data": {
      "image/png": "[encoded data removed]",
      "text/plain": [
       "<PIL.PngImagePlugin.PngImageFile image mode=RGB size=150x150 at 0x7A541C8>"
      ]
     },
     "execution_count": 19,
     "metadata": {},
     "output_type": "execute_result"
    }
   ],
   "source": [
    "img = Draw.DrawMorganBit(m1, 211414882, info)\n",
    "img"
   ]
  },
  {
   "cell_type": "code",
   "execution_count": 20,
   "metadata": {},
   "outputs": [],
   "source": [
    "img.save('data/morgan_vis1.png')"
   ]
  },
  {
   "cell_type": "markdown",
   "metadata": {},
   "source": [
    "* 在ECFPs中的颜色的含义：<br />\n",
    "蓝色：表示中心原子<br />\n",
    "黄色：表示带有芳香性质的原子<br />\n",
    "灰色：表示在脂肪环中的原子"
   ]
  },
  {
   "cell_type": "code",
   "execution_count": 21,
   "metadata": {},
   "outputs": [
    {
     "data": {
      "image/png": "[encoded data removed]",
      "text/plain": [
       "<PIL.PngImagePlugin.PngImageFile image mode=RGB size=150x150 at 0x7A5A888>"
      ]
     },
     "execution_count": 21,
     "metadata": {},
     "output_type": "execute_result"
    }
   ],
   "source": [
    "mol = Chem.MolFromSmiles('c1ccccc1CC1CC1')\n",
    "bi = {}\n",
    "fp = AllChem.GetMorganFingerprintAsBitVect(mol, radius=2, bitInfo=bi)\n",
    "img = Draw.DrawMorganBit(mol, 872, bi)\n",
    "img"
   ]
  },
  {
   "cell_type": "code",
   "execution_count": 22,
   "metadata": {},
   "outputs": [],
   "source": [
    "img.save('data/morgan_vis2.png')"
   ]
  }
 ],
 "metadata": {
  "kernelspec": {
   "display_name": "Python 3",
   "language": "python",
   "name": "python3"
  },
  "language_info": {
   "codemirror_mode": {
    "name": "ipython",
    "version": 3
   },
   "file_extension": ".py",
   "mimetype": "text/x-python",
   "name": "python",
   "nbconvert_exporter": "python",
   "pygments_lexer": "ipython3",
   "version": "3.7.4"
  },
  "toc-autonumbering": false
 },
 "nbformat": 4,
 "nbformat_minor": 4
}
