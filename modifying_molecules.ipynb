{
 "cells": [
  {
   "cell_type": "markdown",
   "metadata": {},
   "source": [
    "# 分子修改与编辑"
   ]
  },
  {
   "cell_type": "markdown",
   "metadata": {},
   "source": [
    "# 一、初级篇"
   ]
  },
  {
   "cell_type": "markdown",
   "metadata": {},
   "source": [
    "## 1.氢原子显示与隐藏\n",
    "正常情况下，分子在rdkit中存储时，氢以隐式氢的形式存储，即不会在图片中显示出来。当需要加入氢原子时，例如要生成和优化立体结构，可以通过函数加上氢原子。\n",
    "- 加氢：AddHs()\n",
    "- 去氢：RemoveHs()"
   ]
  },
  {
   "cell_type": "code",
   "execution_count": 1,
   "metadata": {},
   "outputs": [
    {
     "name": "stdout",
     "output_type": "stream",
     "text": [
      "3\n",
      "9\n",
      "3\n"
     ]
    }
   ],
   "source": [
    "from rdkit import Chem\n",
    "m = Chem.MolFromSmiles('CCO')\n",
    "print(m.GetNumAtoms())\n",
    "m2 = Chem.AddHs(m)\n",
    "print(m2.GetNumAtoms())\n",
    "m2 = Chem.RemoveHs(m2)\n",
    "print(m2.GetNumAtoms())"
   ]
  },
  {
   "cell_type": "markdown",
   "metadata": {},
   "source": [
    "## 2.芳香键与kekule式转换\n",
    "- 芳香键在Rdkit中存储类型为\"AROMATIC\"，可以转化为kelule式：Kekulize()"
   ]
  },
  {
   "cell_type": "code",
   "execution_count": 2,
   "metadata": {},
   "outputs": [
    {
     "name": "stdout",
     "output_type": "stream",
     "text": [
      "AROMATIC\n",
      "DOUBLE\n",
      "SINGLE\n"
     ]
    }
   ],
   "source": [
    "m = Chem.MolFromSmiles('c1ccccc1')\n",
    "print(m.GetBondWithIdx(0).GetBondType())\n",
    "Chem.Kekulize(m)\n",
    "print(m.GetBondWithIdx(0).GetBondType())\n",
    "print(m.GetBondWithIdx(1).GetBondType())"
   ]
  },
  {
   "cell_type": "markdown",
   "metadata": {},
   "source": [
    "转化后，类型中虽然变为单键和双键，但依然是芳香键\n",
    "- 查看是否为芳香键：GetIsAromatic()"
   ]
  },
  {
   "cell_type": "code",
   "execution_count": 3,
   "metadata": {},
   "outputs": [
    {
     "name": "stdout",
     "output_type": "stream",
     "text": [
      "True\n"
     ]
    }
   ],
   "source": [
    "print(m.GetBondWithIdx(1).GetIsAromatic())"
   ]
  },
  {
   "cell_type": "markdown",
   "metadata": {},
   "source": [
    "- 之所以仍然为芳香键，是因为分子有一个跟芳香性相关的属性Flags，记录了芳香性的信息。可以在kelulize时将clearAromaticFlags参数设置为True"
   ]
  },
  {
   "cell_type": "code",
   "execution_count": 4,
   "metadata": {},
   "outputs": [
    {
     "name": "stdout",
     "output_type": "stream",
     "text": [
      "DOUBLE\n",
      "False\n"
     ]
    }
   ],
   "source": [
    "Chem.Kekulize(m, clearAromaticFlags=True)\n",
    "print(m.GetBondWithIdx(0).GetBondType())\n",
    "print(m.GetBondWithIdx(1).GetIsAromatic())"
   ]
  },
  {
   "cell_type": "markdown",
   "metadata": {},
   "source": [
    "- 如果想修改回芳香键，可以对分子进行检查：SanitizeMol()"
   ]
  },
  {
   "cell_type": "code",
   "execution_count": 5,
   "metadata": {},
   "outputs": [
    {
     "name": "stdout",
     "output_type": "stream",
     "text": [
      "AROMATIC\n"
     ]
    }
   ],
   "source": [
    "Chem.SanitizeMol(m)\n",
    "print(m.GetBondWithIdx(0).GetBondType())"
   ]
  },
  {
   "cell_type": "markdown",
   "metadata": {},
   "source": [
    "# 二、高级篇"
   ]
  },
  {
   "cell_type": "markdown",
   "metadata": {},
   "source": [
    "## 1.Atom和Bond对象的编辑功能\n",
    "在rdkit的Atom对象中也提供了一系列功能，可以对分子进行原位编辑。\n",
    "- 修改形式电荷：atom.SetFormalCharge(int)\n",
    "- 修改杂化方式为SP3：atom.HybridizationType(Chem.HybridizationType.SP3)\n",
    "- 修改为芳香原子：atom.SetIsAromatic(True)\n",
    "- 修改为同位素标记原子：atom.SetIsotope(int)\n",
    "- 不带隐式氢：atom.SetNoImplicit(True)\n",
    "- 固定显示氢：atom.SetNumExplicitHs(int)\n",
    "\n",
    "Bond对象类似\n",
    "\n",
    "- 修改键的显示方式：SetBondDir(Chem.BondDir.BEGINDASH)\n",
    "- 修改为芳香键：SetBondType(Chem.BondType.AROMATIC)\n",
    "- 修改键芳香性的Flags：SetIsAromatic(bool)\n",
    "- 是否共轭：SetIsConjugated(bool)\n",
    "\n",
    "不一一说明了，感兴趣可以试试各个函数及相关参数，举几个可能会遇到的例子\n",
    "- 修改手性碳：SetChiralTag()<br />\n",
    "参数设置为Chem.ChiralType.CHI_TETRAHEDRAL_CCW时，为S型（Counter Clockwise，逆时针）<br />\n",
    "参数设置为Chem.ChiralType.CHI_TETRAHEDRAL_CW时，为R型（Clockwise，顺时针）<br />\n",
    "还有CHI_OTHER、CHI_UNSPECIFIED不指定类型"
   ]
  },
  {
   "cell_type": "code",
   "execution_count": 6,
   "metadata": {},
   "outputs": [
    {
     "data": {
      "image/png": "[encoded data removed]",
      "text/plain": [
       "<rdkit.Chem.rdchem.Mol at 0x7899670>"
      ]
     },
     "execution_count": 6,
     "metadata": {},
     "output_type": "execute_result"
    }
   ],
   "source": [
    "m = Chem.MolFromSmiles('OC(N)C')\n",
    "m.GetAtomWithIdx(1).SetChiralTag(Chem.ChiralType.CHI_TETRAHEDRAL_CW)\n",
    "m"
   ]
  },
  {
   "cell_type": "code",
   "execution_count": 7,
   "metadata": {},
   "outputs": [],
   "source": [
    "Chem.Draw.MolToFile(m, 'data/modifying_mols_0.png', size=(250, 250))"
   ]
  },
  {
   "cell_type": "markdown",
   "metadata": {},
   "source": [
    "- 修改原子：atom.SetAtomicNum()"
   ]
  },
  {
   "cell_type": "code",
   "execution_count": 8,
   "metadata": {},
   "outputs": [
    {
     "data": {
      "image/png": "[encoded data removed]",
      "text/plain": [
       "<rdkit.Chem.rdchem.Mol at 0x78b0300>"
      ]
     },
     "execution_count": 8,
     "metadata": {},
     "output_type": "execute_result"
    }
   ],
   "source": [
    "m = Chem.MolFromSmiles('c1ccccc1')\n",
    "m.GetAtomWithIdx(0).SetAtomicNum(7)\n",
    "Chem.SanitizeMol(m)\n",
    "Chem.MolToSmiles(m)\n",
    "m"
   ]
  },
  {
   "cell_type": "markdown",
   "metadata": {},
   "source": [
    "- 别忘了检查步骤，虽然有时候看起来没什么问题"
   ]
  },
  {
   "cell_type": "code",
   "execution_count": 9,
   "metadata": {},
   "outputs": [
    {
     "data": {
      "text/plain": [
       "'c1ccocc1'"
      ]
     },
     "execution_count": 9,
     "metadata": {},
     "output_type": "execute_result"
    }
   ],
   "source": [
    "m = Chem.MolFromSmiles('c1ccccc1')\n",
    "m.GetAtomWithIdx(0).SetAtomicNum(8)\n",
    "Chem.MolToSmiles(m)"
   ]
  },
  {
   "cell_type": "markdown",
   "metadata": {},
   "source": [
    "- 但该分子本身其实是错误的：SanitizeMol()"
   ]
  },
  {
   "cell_type": "code",
   "execution_count": 10,
   "metadata": {},
   "outputs": [
    {
     "ename": "KekulizeException",
     "evalue": "Can't kekulize mol.  Unkekulized atoms: 1 2 3 4 5\n",
     "output_type": "error",
     "traceback": [
      "\u001b[1;31m---------------------------------------------------------------------------\u001b[0m",
      "\u001b[1;31mKekulizeException\u001b[0m                         Traceback (most recent call last)",
      "\u001b[1;32m<ipython-input-10-8aabfab76642>\u001b[0m in \u001b[0;36m<module>\u001b[1;34m\u001b[0m\n\u001b[1;32m----> 1\u001b[1;33m \u001b[0mChem\u001b[0m\u001b[1;33m.\u001b[0m\u001b[0mSanitizeMol\u001b[0m\u001b[1;33m(\u001b[0m\u001b[0mm\u001b[0m\u001b[1;33m)\u001b[0m\u001b[1;33m\u001b[0m\u001b[1;33m\u001b[0m\u001b[0m\n\u001b[0m",
      "\u001b[1;31mKekulizeException\u001b[0m: Can't kekulize mol.  Unkekulized atoms: 1 2 3 4 5\n"
     ]
    }
   ],
   "source": [
    "Chem.SanitizeMol(m)"
   ]
  },
  {
   "cell_type": "markdown",
   "metadata": {},
   "source": [
    "## 2.RWMol的编辑功能\n",
    "更复杂的操作可以使用rdkit.Chem.rdchem.RWMol类（用于分子读写的类）。这个类在修改分子方面，性能更好，它可以提供一个“活动的”分子，并且共享了mol对象的操作接口。修改完毕后，只需要用GetMol()就可以获得最终的分子"
   ]
  },
  {
   "cell_type": "code",
   "execution_count": 11,
   "metadata": {},
   "outputs": [
    {
     "data": {
      "image/png": "[encoded data removed]",
      "text/plain": [
       "<rdkit.Chem.rdchem.RWMol at 0x7ad15f0>"
      ]
     },
     "execution_count": 11,
     "metadata": {},
     "output_type": "execute_result"
    }
   ],
   "source": [
    "m = Chem.MolFromSmiles('CC(=O)C=CC=C')\n",
    "mw = Chem.RWMol(m)\n",
    "mw"
   ]
  },
  {
   "cell_type": "code",
   "execution_count": 12,
   "metadata": {},
   "outputs": [],
   "source": [
    "Chem.Draw.MolToFile(mw, 'data/modifying_mols_1.png', size=(250, 250))"
   ]
  },
  {
   "cell_type": "markdown",
   "metadata": {},
   "source": [
    "- 替换原子：ReplaceAtom(index, newAtom, updateLabel, preserveProps)<br />\n",
    "index：要替换的原子索引<br />\n",
    "newAtom：新的原子对象"
   ]
  },
  {
   "cell_type": "code",
   "execution_count": 13,
   "metadata": {},
   "outputs": [
    {
     "data": {
      "image/png": "[encoded data removed]",
      "text/plain": [
       "<rdkit.Chem.rdchem.RWMol at 0x7ad15f0>"
      ]
     },
     "execution_count": 13,
     "metadata": {},
     "output_type": "execute_result"
    }
   ],
   "source": [
    "mw.ReplaceAtom(4, Chem.Atom(7))\n",
    "mw"
   ]
  },
  {
   "cell_type": "code",
   "execution_count": 14,
   "metadata": {},
   "outputs": [],
   "source": [
    "Chem.Draw.MolToFile(mw, 'data/modifying_mols_2.png', size=(250, 250))"
   ]
  },
  {
   "cell_type": "markdown",
   "metadata": {},
   "source": [
    "- 添加原子：AddAtom(atom)<br />\n",
    "atom：要添加的原子对象<br />\n",
    "返回值是新添加原子的索引"
   ]
  },
  {
   "cell_type": "code",
   "execution_count": 15,
   "metadata": {},
   "outputs": [
    {
     "data": {
      "image/png": "[encoded data removed]",
      "text/plain": [
       "<rdkit.Chem.rdchem.RWMol at 0x7ad15f0>"
      ]
     },
     "execution_count": 15,
     "metadata": {},
     "output_type": "execute_result"
    }
   ],
   "source": [
    "mw.AddAtom(Chem.Atom(6))\n",
    "mw.AddAtom(Chem.Atom(6))\n",
    "mw"
   ]
  },
  {
   "cell_type": "code",
   "execution_count": 16,
   "metadata": {},
   "outputs": [],
   "source": [
    "Chem.Draw.MolToFile(mw, 'data/modifying_mols_3.png', size=(250, 250))"
   ]
  },
  {
   "cell_type": "markdown",
   "metadata": {},
   "source": [
    "- 添加键：AddBond(beginAtomIdx, endAtomIdx, order)<br />\n",
    "beginAtomIdx：键的起始原子<br />\n",
    "endAtomIdx：键的末尾原子<br />\n",
    "order：键的类型<br />"
   ]
  },
  {
   "cell_type": "code",
   "execution_count": 17,
   "metadata": {},
   "outputs": [
    {
     "data": {
      "image/png": "[encoded data removed]",
      "text/plain": [
       "<rdkit.Chem.rdchem.RWMol at 0x7ad15f0>"
      ]
     },
     "execution_count": 17,
     "metadata": {},
     "output_type": "execute_result"
    }
   ],
   "source": [
    "mw.AddBond(6, 7, Chem.BondType.SINGLE)\n",
    "mw.AddBond(7, 8, Chem.BondType.DOUBLE)\n",
    "mw.AddBond(8, 3, Chem.BondType.SINGLE)\n",
    "mw"
   ]
  },
  {
   "cell_type": "code",
   "execution_count": 18,
   "metadata": {},
   "outputs": [],
   "source": [
    "Chem.Draw.MolToFile(mw, 'data/modifying_mols_4.png', size=(250, 250))"
   ]
  },
  {
   "cell_type": "markdown",
   "metadata": {},
   "source": [
    "- 删除原子：RemoveAtom()<br />\n",
    "传入原子索引<br />\n",
    "每次删除后，索引都会更新"
   ]
  },
  {
   "cell_type": "code",
   "execution_count": 19,
   "metadata": {},
   "outputs": [
    {
     "data": {
      "image/png": "[encoded data removed]",
      "text/plain": [
       "<rdkit.Chem.rdchem.RWMol at 0x7ad15f0>"
      ]
     },
     "execution_count": 19,
     "metadata": {},
     "output_type": "execute_result"
    }
   ],
   "source": [
    "mw.RemoveAtom(0)\n",
    "mw"
   ]
  },
  {
   "cell_type": "code",
   "execution_count": 20,
   "metadata": {},
   "outputs": [],
   "source": [
    "Chem.Draw.MolToFile(mw, 'data/modifying_mols_5.png', size=(250, 250))"
   ]
  },
  {
   "cell_type": "markdown",
   "metadata": {},
   "source": [
    "- 其他一些Mol的方法，对RWMol也同样适用"
   ]
  },
  {
   "cell_type": "code",
   "execution_count": 21,
   "metadata": {},
   "outputs": [
    {
     "name": "stdout",
     "output_type": "stream",
     "text": [
      "O=CC1=NC=CC=C1\n",
      "SANITIZE_NONE\n",
      "O=Cc1ccccn1\n"
     ]
    }
   ],
   "source": [
    "print(Chem.MolToSmiles(mw))\n",
    "print(Chem.SanitizeMol(mw))\n",
    "print(Chem.MolToSmiles(mw))"
   ]
  },
  {
   "cell_type": "markdown",
   "metadata": {},
   "source": [
    "- 修改完后，可以获取该分子的Mol对象：mw.GetMol()"
   ]
  },
  {
   "cell_type": "code",
   "execution_count": 22,
   "metadata": {},
   "outputs": [
    {
     "data": {
      "text/plain": [
       "rdkit.Chem.rdchem.Mol"
      ]
     },
     "execution_count": 22,
     "metadata": {},
     "output_type": "execute_result"
    }
   ],
   "source": [
    "m_edit = mw.GetMol()\n",
    "type(m_edit)"
   ]
  }
 ],
 "metadata": {
  "kernelspec": {
   "display_name": "Python 3",
   "language": "python",
   "name": "python3"
  },
  "language_info": {
   "codemirror_mode": {
    "name": "ipython",
    "version": 3
   },
   "file_extension": ".py",
   "mimetype": "text/x-python",
   "name": "python",
   "nbconvert_exporter": "python",
   "pygments_lexer": "ipython3",
   "version": "3.7.4"
  }
 },
 "nbformat": 4,
 "nbformat_minor": 4
}
