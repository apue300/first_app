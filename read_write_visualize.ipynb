{
 "cells": [
  {
   "cell_type": "markdown",
   "metadata": {},
   "source": [
    "参考文档：http://rdkit.org/docs/source/rdkit.Chem.rdmolfiles.html"
   ]
  },
  {
   "cell_type": "code",
   "execution_count": 2,
   "metadata": {},
   "outputs": [],
   "source": [
    "import pandas as pd\n",
    "from rdkit import Chem\n",
    "from rdkit.Chem import Draw\n",
    "from rdkit.Chem import AllChem\n",
    "from rdkit.Chem import Descriptors\n",
    "from rdkit.Chem import PandasTools\n",
    "import pickle\n",
    "import gzip\n",
    "import warnings"
   ]
  },
  {
   "cell_type": "markdown",
   "metadata": {},
   "source": [
    "# 简介"
   ]
  },
  {
   "cell_type": "markdown",
   "metadata": {},
   "source": [
    "# 读取分子"
   ]
  },
  {
   "cell_type": "markdown",
   "metadata": {},
   "source": [
    "## 读二进制"
   ]
  },
  {
   "cell_type": "markdown",
   "metadata": {},
   "source": [
    "* 读取pkl文件：pickle.load(file)<br />\n",
    "file：文件对象"
   ]
  },
  {
   "cell_type": "code",
   "execution_count": 27,
   "metadata": {},
   "outputs": [
    {
     "data": {
      "image/png": "[encoded data removed]",
      "text/plain": [
       "<rdkit.Chem.rdchem.Mol at 0xa47d6f0>"
      ]
     },
     "execution_count": 27,
     "metadata": {},
     "output_type": "execute_result"
    }
   ],
   "source": [
    "with open('data/output.pkl', 'rb') as f:\n",
    "    m = pickle.load(f)\n",
    "m"
   ]
  },
  {
   "cell_type": "markdown",
   "metadata": {},
   "source": [
    "* 读取pkl字节：pickle.loads(bytes_object)<br />\n",
    "bytes_object：字节对象"
   ]
  },
  {
   "cell_type": "code",
   "execution_count": 34,
   "metadata": {},
   "outputs": [
    {
     "name": "stdout",
     "output_type": "stream",
     "text": [
      "b'\\x80\\x03crdkit.Chem.rdchem\\nMol\\nq\\x00C{\\xef\\xbe\\xad\\xde\\x00\\x00\\x00\\x00\\x0b\\x00\\x00\\x00\\x00\\x00\\x00\\x00\\x00\\x00\\x00\\x00\\x06\\x00\\x00\\x00\\x06\\x00\\x00\\x00\\x80\\x01\\x06@h\\x00\\x00\\x00\\x03\\x03\\x01\\x06@h\\x00\\x00\\x00\\x03\\x03\\x01\\x06@h\\x00\\x00\\x00\\x03\\x03\\x01\\x07@(\\x00\\x00\\x00\\x03\\x03\\x06@h\\x00\\x00\\x00\\x03\\x03\\x01\\x06@h\\x00\\x00\\x00\\x03\\x03\\x01\\x0b\\x00\\x01h\\x0c\\x01\\x02h\\x0c\\x02\\x03h\\x0c\\x03\\x04h\\x0c\\x04\\x05h\\x0c\\x05\\x00h\\x0c\\x14\\x01\\x06\\x00\\x05\\x04\\x03\\x02\\x01\\x17\\x00\\x00\\x00\\x00\\x16q\\x01\\x85q\\x02Rq\\x03.'\n"
     ]
    },
    {
     "data": {
      "image/png": "[encoded data removed]",
      "text/plain": [
       "<rdkit.Chem.rdchem.Mol at 0xa4568f0>"
      ]
     },
     "execution_count": 34,
     "metadata": {},
     "output_type": "execute_result"
    }
   ],
   "source": [
    "with open('data/output.pkl', 'rb') as f:\n",
    "    pklStr = f.read()\n",
    "print(pklStr)\n",
    "m = pickle.loads(pklStr)\n",
    "m"
   ]
  },
  {
   "cell_type": "markdown",
   "metadata": {},
   "source": [
    "* 转换二进制m.ToBinary()\n",
    "* 读取二进制Chem.Mol()"
   ]
  },
  {
   "cell_type": "code",
   "execution_count": 36,
   "metadata": {},
   "outputs": [
    {
     "name": "stdout",
     "output_type": "stream",
     "text": [
      "b'\\xef\\xbe\\xad\\xde\\x00\\x00\\x00\\x00\\x0b\\x00\\x00\\x00\\x00\\x00\\x00\\x00\\x00\\x00\\x00\\x00\\x06\\x00\\x00\\x00\\x06\\x00\\x00\\x00\\x80\\x01\\x06@h\\x00\\x00\\x00\\x03\\x03\\x01\\x06@h\\x00\\x00\\x00\\x03\\x03\\x01\\x06@h\\x00\\x00\\x00\\x03\\x03\\x01\\x07@(\\x00\\x00\\x00\\x03\\x03\\x06@h\\x00\\x00\\x00\\x03\\x03\\x01\\x06@h\\x00\\x00\\x00\\x03\\x03\\x01\\x0b\\x00\\x01h\\x0c\\x01\\x02h\\x0c\\x02\\x03h\\x0c\\x03\\x04h\\x0c\\x04\\x05h\\x0c\\x05\\x00h\\x0c\\x14\\x01\\x06\\x00\\x05\\x04\\x03\\x02\\x01\\x17\\x00\\x00\\x00\\x00\\x16'\n"
     ]
    },
    {
     "data": {
      "image/png": "[encoded data removed]",
      "text/plain": [
       "<rdkit.Chem.rdchem.Mol at 0xa50b870>"
      ]
     },
     "execution_count": 36,
     "metadata": {},
     "output_type": "execute_result"
    }
   ],
   "source": [
    "binStr = m.ToBinary()\n",
    "print(binStr)\n",
    "m = Chem.Mol(binStr)\n",
    "m"
   ]
  },
  {
   "cell_type": "markdown",
   "metadata": {},
   "source": [
    "## 读SMILES/SMARTS"
   ]
  },
  {
   "cell_type": "markdown",
   "metadata": {},
   "source": [
    "### 直接读取"
   ]
  },
  {
   "cell_type": "markdown",
   "metadata": {},
   "source": [
    "* 从SMILES/SMARTS直接读取"
   ]
  },
  {
   "cell_type": "code",
   "execution_count": 2,
   "metadata": {},
   "outputs": [],
   "source": [
    "from rdkit import Chem"
   ]
  },
  {
   "cell_type": "code",
   "execution_count": 3,
   "metadata": {},
   "outputs": [],
   "source": [
    "m = Chem.MolFromSmiles('C[C@H](O)c1ccccc1')\n",
    "m = Chem.MolFromSmarts('Cc1ccccc1')"
   ]
  },
  {
   "cell_type": "markdown",
   "metadata": {},
   "source": [
    "### 文件批量读取"
   ]
  },
  {
   "cell_type": "markdown",
   "metadata": {},
   "source": [
    "* 从.smi批量读取：SmilesMolSupplier(data, delimiter, smilesColumn, nameColumn, titleLine, sanitize)<br />\n",
    "data：数据文件<br />\n",
    "delimiter：分隔符，默认为' '<br />\n",
    "smilesColumn：SMILES所在列，默认为0<br />\n",
    "nameColumn：SMILES名称所在列，默认为1<br />\n",
    "titleLine：是否含有标题行，默认True<br />\n",
    "sanitize：是否检查正确性，默认True"
   ]
  },
  {
   "cell_type": "code",
   "execution_count": 5,
   "metadata": {},
   "outputs": [
    {
     "name": "stdout",
     "output_type": "stream",
     "text": [
      "['C1=CC=CC=CC=C1', 'c1ccccc1', 'c1ccoc1']\n"
     ]
    }
   ],
   "source": [
    "suppl = Chem.SmilesMolSupplier('data/batch_smiles.smi', delimiter='\\t')\n",
    "mols = [Chem.MolToSmiles(mol) for mol in suppl]\n",
    "print(mols)"
   ]
  },
  {
   "cell_type": "markdown",
   "metadata": {},
   "source": [
    "### 文本批量读取"
   ]
  },
  {
   "cell_type": "markdown",
   "metadata": {},
   "source": [
    "* 从文本批量读取SmilesMolSupplierFromText()<br />\n",
    "参数基本同上"
   ]
  },
  {
   "cell_type": "code",
   "execution_count": 8,
   "metadata": {},
   "outputs": [
    {
     "name": "stdout",
     "output_type": "stream",
     "text": [
      "['C1=CC=CC=CC=C1', 'c1ccccc1', 'c1ccoc1']\n"
     ]
    }
   ],
   "source": [
    "with open('data/batch_smiles.smi', 'r') as f:\n",
    "    mols_text = f.read()\n",
    "suppl = Chem.SmilesMolSupplierFromText(mols_text, delimiter='\\t')\n",
    "mols = [Chem.MolToSmiles(mol) for mol in suppl]\n",
    "print(mols)"
   ]
  },
  {
   "cell_type": "markdown",
   "metadata": {},
   "source": [
    "### DataFrame批量读取"
   ]
  },
  {
   "cell_type": "markdown",
   "metadata": {},
   "source": [
    "* 读取DataFrame中的SMILES：PandasTools.AddMoleculeColumnToFrame(frame, smilesCol, molCol, includeFingerprints)<br />\n",
    "frame：DataFrame对象<br />\n",
    "smilesCol：SMILES所在列<br />\n",
    "molCol：新列名，将存放产生的rdkit mol对象<br />\n",
    "includeFingerprints：是否生成指纹"
   ]
  },
  {
   "cell_type": "code",
   "execution_count": 13,
   "metadata": {},
   "outputs": [
    {
     "name": "stdout",
     "output_type": "stream",
     "text": [
      "           Name                                             SMILES  \\\n",
      "0    Lanreotide  c1(c2c(cccc2)[nH]c1)C[C@@H]1NC(=O)[C@@H](Cc2cc...   \n",
      "1  Lansoprazole        Cc1c(OCC(F)(F)F)ccnc1CS(=O)c2nc3ccccc3[nH]2   \n",
      "\n",
      "                                                 mol        MW  \n",
      "0  <img data-content=\"rdkit/molecule\" src=\"data:i...  1096.347  \n",
      "1  <img data-content=\"rdkit/molecule\" src=\"data:i...   369.368  \n"
     ]
    }
   ],
   "source": [
    "df = pd.read_csv('data/smiles_df.csv')\n",
    "PandasTools.AddMoleculeColumnToFrame(df,'SMILES','mol',includeFingerprints=True)\n",
    "df['MW'] = df['mol'].apply(Descriptors.MolWt)\n",
    "print(df.head(2))"
   ]
  },
  {
   "cell_type": "markdown",
   "metadata": {},
   "source": [
    "## 读.sdf"
   ]
  },
  {
   "cell_type": "markdown",
   "metadata": {},
   "source": [
    "### 文件批量读取"
   ]
  },
  {
   "cell_type": "markdown",
   "metadata": {},
   "source": [
    "* 从.sdf里批量读取：Chem.SDMolSupplier(fileName, sanitize, removeHs, strictParsing)<br />\n",
    "fileName：文件名<br />\n",
    "sanitize：检查化合价，计算芳香性、共轭、杂化、kekule，默认True<br />\n",
    "removeHs：是否隐藏氢原子，默认True<br />\n",
    "strictParsing：是否使用严格模式进行解析，默认True"
   ]
  },
  {
   "cell_type": "code",
   "execution_count": 15,
   "metadata": {},
   "outputs": [
    {
     "name": "stdout",
     "output_type": "stream",
     "text": [
      "['C1=C\\\\C=C/C=C\\\\C=C/1', 'c1ccccc1', 'c1ccoc1']\n"
     ]
    }
   ],
   "source": [
    "suppl = Chem.SDMolSupplier('data/batch.sdf')\n",
    "mols = [Chem.MolToSmiles(mol) for mol in suppl if mol]\n",
    "print(mols)"
   ]
  },
  {
   "cell_type": "markdown",
   "metadata": {},
   "source": [
    "### 压缩包批量读取"
   ]
  },
  {
   "cell_type": "markdown",
   "metadata": {},
   "source": [
    "* 从file object/.gz里读取"
   ]
  },
  {
   "cell_type": "code",
   "execution_count": 18,
   "metadata": {},
   "outputs": [
    {
     "name": "stdout",
     "output_type": "stream",
     "text": [
      "['C1=C\\\\C=C/C=C\\\\C=C/1', 'c1ccccc1', 'c1ccoc1']\n"
     ]
    }
   ],
   "source": [
    "gz_file = gzip.open('data/batch.sdf.gz', 'r')\n",
    "suppl = Chem.ForwardSDMolSupplier(gz_file)\n",
    "mols = [Chem.MolToSmiles(mol) for mol in suppl if mol]\n",
    "print(mols)\n",
    "f.close()"
   ]
  },
  {
   "cell_type": "markdown",
   "metadata": {},
   "source": [
    "## 读.mol"
   ]
  },
  {
   "cell_type": "markdown",
   "metadata": {},
   "source": [
    "* 从.mol里读取：Chem.MolFromMolFile(fileName, sanitize, removeHs, strictParsing)"
   ]
  },
  {
   "cell_type": "code",
   "execution_count": 22,
   "metadata": {},
   "outputs": [
    {
     "name": "stdout",
     "output_type": "stream",
     "text": [
      "c1cocc1\n"
     ]
    }
   ],
   "source": [
    "m = Chem.MolFromMolFile('data/output.mol')\n",
    "print(Chem.MolToSmiles(mol))"
   ]
  },
  {
   "cell_type": "markdown",
   "metadata": {},
   "source": [
    "## 读.mol2<br />\n",
    "不推荐，容易出bug"
   ]
  },
  {
   "cell_type": "markdown",
   "metadata": {},
   "source": [
    "* 从.mol2里读取"
   ]
  },
  {
   "cell_type": "code",
   "execution_count": 23,
   "metadata": {},
   "outputs": [
    {
     "name": "stdout",
     "output_type": "stream",
     "text": [
      "[C]1[C][C][C]1\n"
     ]
    }
   ],
   "source": [
    "m = Chem.MolFromMol2File('data/output.mol2')\n",
    "print(Chem.MolToSmiles(m))"
   ]
  },
  {
   "cell_type": "markdown",
   "metadata": {},
   "source": [
    "## 读其他格式：pdb, fasta, ...\n",
    "其他格式大同小异，不再赘述了，感兴趣可自己尝试"
   ]
  },
  {
   "cell_type": "markdown",
   "metadata": {},
   "source": [
    "* 从.pdb里读取"
   ]
  },
  {
   "cell_type": "code",
   "execution_count": null,
   "metadata": {},
   "outputs": [],
   "source": [
    "Chem.MolFromPDBFile()\n",
    "Chem.MolFromPDBBlock()"
   ]
  },
  {
   "cell_type": "markdown",
   "metadata": {},
   "source": [
    "* 读.fasta"
   ]
  },
  {
   "cell_type": "code",
   "execution_count": null,
   "metadata": {},
   "outputs": [],
   "source": [
    "Chem.MolFromFASTA()"
   ]
  },
  {
   "cell_type": "markdown",
   "metadata": {},
   "source": [
    "* 读peptide"
   ]
  },
  {
   "cell_type": "code",
   "execution_count": null,
   "metadata": {},
   "outputs": [],
   "source": [
    "Chem.MolFromSequence()"
   ]
  },
  {
   "cell_type": "markdown",
   "metadata": {},
   "source": [
    "# 输出分子"
   ]
  },
  {
   "cell_type": "markdown",
   "metadata": {},
   "source": [
    "## 输出二进制"
   ]
  },
  {
   "cell_type": "markdown",
   "metadata": {},
   "source": [
    "* 可以使用python的pickle将分子转成二进制<br />\n",
    "相对于SMILES和文件，二进制pkl格式体积更小，读取速度更快<br />\n",
    "* 输出pkl文件：pickle.dump(obj, file, ...)<br />\n",
    "obj：要封装的对象<br />\n",
    "file：要写入的文件<br />"
   ]
  },
  {
   "cell_type": "code",
   "execution_count": 42,
   "metadata": {},
   "outputs": [],
   "source": [
    "m = Chem.MolFromSmiles('c1ccncc1')\n",
    "with open('data/output.pkl', 'wb') as f:\n",
    "    pickle.dump(m, f)"
   ]
  },
  {
   "cell_type": "markdown",
   "metadata": {},
   "source": [
    "* 输出pkl字节：pickle.dumps()"
   ]
  },
  {
   "cell_type": "code",
   "execution_count": 43,
   "metadata": {},
   "outputs": [
    {
     "data": {
      "text/plain": [
       "b'\\x80\\x03crdkit.Chem.rdchem\\nMol\\nq\\x00C{\\xef\\xbe\\xad\\xde\\x00\\x00\\x00\\x00\\x0b\\x00\\x00\\x00\\x00\\x00\\x00\\x00\\x00\\x00\\x00\\x00\\x06\\x00\\x00\\x00\\x06\\x00\\x00\\x00\\x80\\x01\\x06@h\\x00\\x00\\x00\\x03\\x03\\x01\\x06@h\\x00\\x00\\x00\\x03\\x03\\x01\\x06@h\\x00\\x00\\x00\\x03\\x03\\x01\\x07@(\\x00\\x00\\x00\\x03\\x03\\x06@h\\x00\\x00\\x00\\x03\\x03\\x01\\x06@h\\x00\\x00\\x00\\x03\\x03\\x01\\x0b\\x00\\x01h\\x0c\\x01\\x02h\\x0c\\x02\\x03h\\x0c\\x03\\x04h\\x0c\\x04\\x05h\\x0c\\x05\\x00h\\x0c\\x14\\x01\\x06\\x00\\x05\\x04\\x03\\x02\\x01\\x17\\x00\\x00\\x00\\x00\\x16q\\x01\\x85q\\x02Rq\\x03.'"
      ]
     },
     "execution_count": 43,
     "metadata": {},
     "output_type": "execute_result"
    }
   ],
   "source": [
    "pkl = pickle.dumps(m)\n",
    "pkl"
   ]
  },
  {
   "cell_type": "markdown",
   "metadata": {},
   "source": [
    "* 输出二进制m.ToBinary()"
   ]
  },
  {
   "cell_type": "code",
   "execution_count": 44,
   "metadata": {},
   "outputs": [
    {
     "data": {
      "text/plain": [
       "b'\\xef\\xbe\\xad\\xde\\x00\\x00\\x00\\x00\\x0b\\x00\\x00\\x00\\x00\\x00\\x00\\x00\\x00\\x00\\x00\\x00\\x06\\x00\\x00\\x00\\x06\\x00\\x00\\x00\\x80\\x01\\x06@h\\x00\\x00\\x00\\x03\\x03\\x01\\x06@h\\x00\\x00\\x00\\x03\\x03\\x01\\x06@h\\x00\\x00\\x00\\x03\\x03\\x01\\x07@(\\x00\\x00\\x00\\x03\\x03\\x06@h\\x00\\x00\\x00\\x03\\x03\\x01\\x06@h\\x00\\x00\\x00\\x03\\x03\\x01\\x0b\\x00\\x01h\\x0c\\x01\\x02h\\x0c\\x02\\x03h\\x0c\\x03\\x04h\\x0c\\x04\\x05h\\x0c\\x05\\x00h\\x0c\\x14\\x01\\x06\\x00\\x05\\x04\\x03\\x02\\x01\\x17\\x00\\x00\\x00\\x00\\x16'"
      ]
     },
     "execution_count": 44,
     "metadata": {},
     "output_type": "execute_result"
    }
   ],
   "source": [
    "binStr = m.ToBinary()\n",
    "binStr"
   ]
  },
  {
   "cell_type": "markdown",
   "metadata": {},
   "source": [
    "## 输出SMILES/SMARTS"
   ]
  },
  {
   "cell_type": "markdown",
   "metadata": {},
   "source": [
    "### 输出默认式"
   ]
  },
  {
   "cell_type": "markdown",
   "metadata": {},
   "source": [
    "* 输出SMILES：MolToSmiles(mol, isomericSmiles, kekuleSmiles, canonical, ...)<br />\n",
    "kekuleSmiles：默认False，不使用kekule时：脂肪族碳用\"C\"表示（大写），芳香族用\"c\"表示（小写）<br />\n",
    "isomericSmiles：默认True，区分同分异构体（\"@\"表示手性，\"\\\"和\"/\"表示顺反异构）<br />\n",
    "canonical：默认True，输出标准SMILES <br />"
   ]
  },
  {
   "cell_type": "code",
   "execution_count": 21,
   "metadata": {},
   "outputs": [
    {
     "name": "stdout",
     "output_type": "stream",
     "text": [
      "['C1=CC=CC=CC=C1', 'c1ccccc1', 'c1ccoc1']\n"
     ]
    }
   ],
   "source": [
    "m1 = Chem.MolFromSmiles('C1=CC=CC=CC=C1')\n",
    "m2 = Chem.MolFromSmiles('C1=CC=CC=C1')\n",
    "m3 = Chem.MolFromSmiles('C1=COC=C1')\n",
    "mols = [m1, m2, m3]\n",
    "print([Chem.MolToSmiles(mol) for mol in mols])"
   ]
  },
  {
   "cell_type": "markdown",
   "metadata": {},
   "source": [
    "### 输出kekule式"
   ]
  },
  {
   "cell_type": "markdown",
   "metadata": {},
   "source": [
    "* 输出kekule形式<br />\n",
    "kekule形式：在符合4N+2规则的芳香体系中，通过使用双键代替小写的碳原子来表示芳香性<br />\n",
    "4N+2规则：也叫Hueckel规则，在闭环共轭体系中，当π电子数为4n+2时，才具有芳香性<br />\n",
    "注：m1有共轭结构，但不属于芳香系统。m3中氧提供了2个π电子，碳各提供1个，总数为6，属于芳香系统"
   ]
  },
  {
   "cell_type": "code",
   "execution_count": 3,
   "metadata": {},
   "outputs": [
    {
     "name": "stdout",
     "output_type": "stream",
     "text": [
      "['C1=CC=CC=CC=C1', 'C1=CC=CC=C1', 'C1=COC=C1']\n"
     ]
    }
   ],
   "source": [
    "for mol in mols:\n",
    "    Chem.Kekulize(mol)\n",
    "print([Chem.MolToSmiles(mol, kekuleSmiles=True) for mol in mols])"
   ]
  },
  {
   "cell_type": "markdown",
   "metadata": {},
   "source": [
    "### 设置立体参数"
   ]
  },
  {
   "cell_type": "markdown",
   "metadata": {},
   "source": [
    "* 不区分同分异构体<br />\n",
    "通过isomericSmiles控制"
   ]
  },
  {
   "cell_type": "code",
   "execution_count": 22,
   "metadata": {},
   "outputs": [
    {
     "name": "stdout",
     "output_type": "stream",
     "text": [
      "C[C@H](O)c1ccccc1\n",
      "CC(O)c1ccccc1\n"
     ]
    }
   ],
   "source": [
    "m4 = Chem.MolFromSmiles('C[C@H](O)c1ccccc1')\n",
    "print(Chem.MolToSmiles(m4))\n",
    "print(Chem.MolToSmiles(m4, isomericSmiles=False))"
   ]
  },
  {
   "cell_type": "markdown",
   "metadata": {},
   "source": [
    "### 批量输出SMILES"
   ]
  },
  {
   "cell_type": "markdown",
   "metadata": {},
   "source": [
    "* 批量输出SMILES：SmilesWriter(fileName, delimiter, includeHeader, nameHeader, isomericSmiles, kekuleSmiles) <br />\n",
    "fileName：输出文件名<br />\n",
    "delimiter：分隔符，默认为' '<br />\n",
    "includeHeader：是否写入表头，默认True<br />\n",
    "nameHeader：分子名一列的列名，默认'Name'<br />\n",
    "isomericSmiles：立体信息，默认True<br />\n",
    "kekuleSmiles：kekule形式，默认False<br />\n",
    "返回一个writer对象<br />\n",
    "* 写入SMILES：writer(mol, confId) <br />\n",
    "mol：mol对象<br />\n",
    "conFId：写入的第几个构象"
   ]
  },
  {
   "cell_type": "code",
   "execution_count": 23,
   "metadata": {},
   "outputs": [],
   "source": [
    "writer = Chem.SmilesWriter('data/batch.smi', delimiter='\\t')\n",
    "for i, mol in enumerate(mols):\n",
    "    writer.write(mol)\n",
    "writer.close()"
   ]
  },
  {
   "cell_type": "code",
   "execution_count": 24,
   "metadata": {},
   "outputs": [
    {
     "data": {
      "text/plain": [
       "SMILES\tName\t\n",
       "C1=CC=CC=CC=C1\t0\n",
       "c1ccccc1\t1\n",
       "c1ccoc1\t2\n"
      ]
     },
     "metadata": {},
     "output_type": "display_data"
    }
   ],
   "source": [
    "%more data/batch.smi"
   ]
  },
  {
   "cell_type": "markdown",
   "metadata": {},
   "source": [
    "### 批量输出SMILES和属性"
   ]
  },
  {
   "cell_type": "markdown",
   "metadata": {},
   "source": [
    "* 批量输出SMILES及属性，通过以下函数进行操作：<br />\n",
    "mol.GetPropNames()，查看分子属性列表<br />\n",
    "mol.GetProp()，获取相应属性<br />\n",
    "mol.SetProp(key, val)，新增属性名key、对应属性值val<br />\n",
    "writer.SetProps()，设置哪些属性要输出\n",
    "\n",
    "* 以输出分子量和LogP为例<br />\n",
    "使用Descriptors计算属性，并添加"
   ]
  },
  {
   "cell_type": "code",
   "execution_count": 7,
   "metadata": {},
   "outputs": [
    {
     "name": "stdout",
     "output_type": "stream",
     "text": [
      "number of mols: 3\n",
      "mol properties: ['MW', 'LOGP']\n"
     ]
    }
   ],
   "source": [
    "writer = Chem.SmilesWriter('data/batch_smiles.smi', delimiter='\\t', nameHeader='mol_id')\n",
    "writer.SetProps(['LOGP', 'MW'])\n",
    "for i, mol in enumerate(mols):\n",
    "    mw = Descriptors.ExactMolWt(mol)\n",
    "    logp = Descriptors.MolLogP(mol)\n",
    "    mol.SetProp('MW', '%.2f' %(mw))\n",
    "    mol.SetProp('LOGP', '%.2f' %(logp))\n",
    "    mol.SetProp('_Name', 'No_%s' %(i))\n",
    "    writer.write(mol)\n",
    "writer.close()\n",
    "print('number of mols:', writer.NumMols())\n",
    "print('mol properties:', [i for i in mol.GetPropNames()])"
   ]
  },
  {
   "cell_type": "code",
   "execution_count": 8,
   "metadata": {},
   "outputs": [
    {
     "data": {
      "text/plain": [
       "SMILES\tmol_id\tLOGP\tMW\n",
       "C1=CC=CC=CC=C1\tNo_0\t2.22\t104.06\n",
       "c1ccccc1\tNo_1\t1.69\t78.05\n",
       "c1cocc1\tNo_2\t1.28\t68.03\n"
      ]
     },
     "metadata": {},
     "output_type": "display_data"
    }
   ],
   "source": [
    "%more data/batch_smiles.smi"
   ]
  },
  {
   "cell_type": "markdown",
   "metadata": {},
   "source": [
    "### 输出SMARTS"
   ]
  },
  {
   "cell_type": "markdown",
   "metadata": {},
   "source": [
    "* 输出SMARTS：MolToSmarts()<br />"
   ]
  },
  {
   "cell_type": "code",
   "execution_count": 25,
   "metadata": {},
   "outputs": [
    {
     "data": {
      "text/plain": [
       "'[#6]1:[#6]:[#8]:[#6]:[#6]:1'"
      ]
     },
     "execution_count": 25,
     "metadata": {},
     "output_type": "execute_result"
    }
   ],
   "source": [
    "Chem.MolToSmarts(m3, isomericSmiles=True)"
   ]
  },
  {
   "cell_type": "markdown",
   "metadata": {},
   "source": [
    "## 输出.sdf"
   ]
  },
  {
   "cell_type": "markdown",
   "metadata": {},
   "source": [
    "### 批量输出到.sdf"
   ]
  },
  {
   "cell_type": "markdown",
   "metadata": {},
   "source": [
    "* 批量输出到文件：SDWriter()<br />\n",
    "使用方法类似于SMILES的批量输出<br />\n",
    "可以自定义属性信息，并记录在.sdf文件中<br />\n",
    "返回writer对象\n",
    "* 写入sdf：writer(mol, confId) <br />\n",
    "mol：mol对象<br />\n",
    "conFId：写入的第几个构象（不同构象坐标不一样）"
   ]
  },
  {
   "cell_type": "code",
   "execution_count": 10,
   "metadata": {},
   "outputs": [],
   "source": [
    "writer = Chem.SDWriter('data/batch.sdf')\n",
    "writer.SetProps(['LOGP', 'MW'])\n",
    "for i, mol in enumerate(mols):\n",
    "    mw = Descriptors.ExactMolWt(mol)\n",
    "    logp = Descriptors.MolLogP(mol)\n",
    "    mol.SetProp('MW', '%.2f' %(mw))\n",
    "    mol.SetProp('LOGP', '%.2f' %(logp))\n",
    "    mol.SetProp('_Name', 'No_%s' %(i))\n",
    "    writer.write(mol)\n",
    "writer.close()"
   ]
  },
  {
   "cell_type": "code",
   "execution_count": 11,
   "metadata": {},
   "outputs": [
    {
     "data": {
      "text/plain": [
       "No_0\n",
       "     RDKit          2D\n",
       "\n",
       "  8  8  0  0  0  0  0  0  0  0999 V2000\n",
       "    1.9598    0.0000    0.0000 C   0  0  0  0  0  0  0  0  0  0  0  0\n",
       "    1.3858   -1.3858    0.0000 C   0  0  0  0  0  0  0  0  0  0  0  0\n",
       "   -0.0000   -1.9598    0.0000 C   0  0  0  0  0  0  0  0  0  0  0  0\n",
       "   -1.3858   -1.3858    0.0000 C   0  0  0  0  0  0  0  0  0  0  0  0\n",
       "   -1.9598    0.0000    0.0000 C   0  0  0  0  0  0  0  0  0  0  0  0\n",
       "   -1.3858    1.3858    0.0000 C   0  0  0  0  0  0  0  0  0  0  0  0\n",
       "    0.0000    1.9598    0.0000 C   0  0  0  0  0  0  0  0  0  0  0  0\n",
       "    1.3858    1.3858    0.0000 C   0  0  0  0  0  0  0  0  0  0  0  0\n",
       "  1  2  2  0\n",
       "  2  3  1  0\n",
       "  3  4  2  0\n",
       "  4  5  1  0\n",
       "  5  6  2  0\n",
       "  6  7  1  0\n",
       "  7  8  2  0\n",
       "  8  1  1  0\n",
       "M  END\n",
       ">  <LOGP>  (1) \n",
       "2.22\n",
       "\n",
       ">  <MW>  (1) \n",
       "104.06\n",
       "\n",
       "$$$$\n",
       "No_1\n",
       "     RDKit          2D\n",
       "\n",
       "  6  6  0  0  0  0  0  0  0  0999 V2000\n",
       "    1.5000    0.0000    0.0000 C   0  0  0  0  0  0  0  0  0  0  0  0\n",
       "    0.7500   -1.2990    0.0000 C   0  0  0  0  0  0  0  0  0  0  0  0\n",
       "   -0.7500   -1.2990    0.0000 C   0  0  0  0  0  0  0  0  0  0  0  0\n",
       "   -1.5000    0.0000    0.0000 C   0  0  0  0  0  0  0  0  0  0  0  0\n",
       "   -0.7500    1.2990    0.0000 C   0  0  0  0  0  0  0  0  0  0  0  0\n",
       "    0.7500    1.2990    0.0000 C   0  0  0  0  0  0  0  0  0  0  0  0\n",
       "  1  2  2  0\n",
       "  2  3  1  0\n",
       "  3  4  2  0\n",
       "  4  5  1  0\n",
       "  5  6  2  0\n",
       "  6  1  1  0\n",
       "M  END\n",
       ">  <LOGP>  (2) \n",
       "1.69\n",
       "\n",
       ">  <MW>  (2) \n",
       "78.05\n",
       "\n",
       "$$$$\n",
       "No_2\n",
       "     RDKit          2D\n",
       "\n",
       "  5  5  0  0  0  0  0  0  0  0999 V2000\n",
       "    1.2760    0.0000    0.0000 C   0  0  0  0  0  0  0  0  0  0  0  0\n",
       "    0.3943    1.2135    0.0000 C   0  0  0  0  0  0  0  0  0  0  0  0\n",
       "   -1.0323    0.7500    0.0000 O   0  0  0  0  0  0  0  0  0  0  0  0\n",
       "   -1.0323   -0.7500    0.0000 C   0  0  0  0  0  0  0  0  0  0  0  0\n",
       "    0.3943   -1.2135    0.0000 C   0  0  0  0  0  0  0  0  0  0  0  0\n",
       "  1  2  2  0\n",
       "  2  3  1  0\n",
       "  3  4  1  0\n",
       "  4  5  2  0\n",
       "  5  1  1  0\n",
       "M  END\n",
       ">  <LOGP>  (3) \n",
       "1.28\n",
       "\n",
       ">  <MW>  (3) \n",
       "68.03\n",
       "\n",
       "$$$$\n"
      ]
     },
     "metadata": {},
     "output_type": "display_data"
    }
   ],
   "source": [
    "%more data/batch.sdf"
   ]
  },
  {
   "cell_type": "markdown",
   "metadata": {},
   "source": [
    "### 批量输出到.gz"
   ]
  },
  {
   "cell_type": "markdown",
   "metadata": {},
   "source": [
    "* 批量输出到.gz<br />"
   ]
  },
  {
   "cell_type": "code",
   "execution_count": 12,
   "metadata": {},
   "outputs": [],
   "source": [
    "outf = gzip.open('data/batch.sdf.gz','wt+')\n",
    "writer = Chem.SDWriter(outf)\n",
    "for mol in mols:\n",
    "    writer.write(mol)\n",
    "writer.close()\n",
    "outf.close()"
   ]
  },
  {
   "cell_type": "markdown",
   "metadata": {},
   "source": [
    "## 输出.mol"
   ]
  },
  {
   "cell_type": "markdown",
   "metadata": {},
   "source": [
    "### 输出为连接表"
   ]
  },
  {
   "cell_type": "markdown",
   "metadata": {},
   "source": [
    "* 直接输出：MolToMolBlock()"
   ]
  },
  {
   "cell_type": "code",
   "execution_count": 13,
   "metadata": {},
   "outputs": [
    {
     "name": "stdout",
     "output_type": "stream",
     "text": [
      "\n",
      "     RDKit          2D\n",
      "\n",
      "  4  4  0  0  0  0  0  0  0  0999 V2000\n",
      "    1.0607    0.0000    0.0000 C   0  0  0  0  0  0  0  0  0  0  0  0\n",
      "   -0.0000   -1.0607    0.0000 C   0  0  0  0  0  0  0  0  0  0  0  0\n",
      "   -1.0607    0.0000    0.0000 C   0  0  0  0  0  0  0  0  0  0  0  0\n",
      "    0.0000    1.0607    0.0000 C   0  0  0  0  0  0  0  0  0  0  0  0\n",
      "  1  2  1  0\n",
      "  2  3  1  0\n",
      "  3  4  1  0\n",
      "  4  1  1  0\n",
      "M  END\n",
      "\n"
     ]
    }
   ],
   "source": [
    "m1 = Chem.MolFromSmiles('C1CCC1')\n",
    "print(Chem.MolToMolBlock(m1))"
   ]
  },
  {
   "cell_type": "markdown",
   "metadata": {},
   "source": [
    "### 输出到.mol"
   ]
  },
  {
   "cell_type": "markdown",
   "metadata": {},
   "source": [
    "* 输出到文件：MolToMolFile(mol, filename, includeStereo, ...)\n",
    "mol：mol对象\n",
    "filename：文件名\n",
    "includeStereo：立体信息，默认True"
   ]
  },
  {
   "cell_type": "code",
   "execution_count": 14,
   "metadata": {},
   "outputs": [],
   "source": [
    "m1.SetProp('_Name', 'cyclobutane')\n",
    "Chem.MolToMolFile(m1, 'data/output.mol')"
   ]
  },
  {
   "cell_type": "code",
   "execution_count": 15,
   "metadata": {},
   "outputs": [
    {
     "data": {
      "text/plain": [
       "cyclobutane\n",
       "     RDKit          2D\n",
       "\n",
       "  4  4  0  0  0  0  0  0  0  0999 V2000\n",
       "    1.0607    0.0000    0.0000 C   0  0  0  0  0  0  0  0  0  0  0  0\n",
       "   -0.0000   -1.0607    0.0000 C   0  0  0  0  0  0  0  0  0  0  0  0\n",
       "   -1.0607    0.0000    0.0000 C   0  0  0  0  0  0  0  0  0  0  0  0\n",
       "    0.0000    1.0607    0.0000 C   0  0  0  0  0  0  0  0  0  0  0  0\n",
       "  1  2  1  0\n",
       "  2  3  1  0\n",
       "  3  4  1  0\n",
       "  4  1  1  0\n",
       "M  END\n"
      ]
     },
     "metadata": {},
     "output_type": "display_data"
    }
   ],
   "source": [
    "%more data/output.mol"
   ]
  },
  {
   "cell_type": "markdown",
   "metadata": {},
   "source": [
    "## 输出其他格式:pdb, fasta, xyz...\n",
    "其他一些格式，大同小异，不多赘述了，感兴趣的自己可以尝试下"
   ]
  },
  {
   "cell_type": "markdown",
   "metadata": {},
   "source": [
    "* 输出.pdb"
   ]
  },
  {
   "cell_type": "code",
   "execution_count": null,
   "metadata": {},
   "outputs": [],
   "source": [
    "Chem.MolToPDBBlock()\n",
    "Chem.MolToPDBFile()\n",
    "Chem.PDBWriter()"
   ]
  },
  {
   "cell_type": "markdown",
   "metadata": {},
   "source": [
    "* 输出.fasta"
   ]
  },
  {
   "cell_type": "code",
   "execution_count": null,
   "metadata": {},
   "outputs": [],
   "source": [
    "Chem.MolToFASTA()"
   ]
  },
  {
   "cell_type": "markdown",
   "metadata": {},
   "source": [
    "* 输出.xyz"
   ]
  },
  {
   "cell_type": "code",
   "execution_count": null,
   "metadata": {},
   "outputs": [],
   "source": [
    "Chem.MolToXYZBlock()\n",
    "Chem.MolToXYZFile()"
   ]
  },
  {
   "cell_type": "markdown",
   "metadata": {},
   "source": [
    "# 分子可视化"
   ]
  },
  {
   "cell_type": "markdown",
   "metadata": {},
   "source": [
    "## 单个展示"
   ]
  },
  {
   "cell_type": "markdown",
   "metadata": {},
   "source": [
    "* 从mol对象到图片：MolToImage(mol, size, kekulize, wedgeBonds, fitImage, ...)<br />\n",
    "mol：mol对象<br />\n",
    "size：图片尺寸，默认(300, 300)<br />\n",
    "kekulize：是否展示kekule形式，默认True（True：芳香系统用实线表示，False：虚线表示）<br />\n",
    "wedgeBonds：是否展示楔形键，即立体构型，默认True"
   ]
  },
  {
   "cell_type": "code",
   "execution_count": 45,
   "metadata": {},
   "outputs": [
    {
     "data": {
      "image/png": "[encoded data removed]",
      "text/plain": [
       "<PIL.PngImagePlugin.PngImageFile image mode=RGB size=150x150 at 0xA795F08>"
      ]
     },
     "execution_count": 45,
     "metadata": {},
     "output_type": "execute_result"
    }
   ],
   "source": [
    "mol = Chem.MolFromSmiles('C[C@H](O)c1ccccc1')\n",
    "Draw.MolToImage(mol, size=(150,150), kekulize=True)"
   ]
  },
  {
   "cell_type": "markdown",
   "metadata": {},
   "source": [
    "* 在新窗口中展示图片：ShowMol()<br />\n",
    "参数基本同上"
   ]
  },
  {
   "cell_type": "code",
   "execution_count": 46,
   "metadata": {},
   "outputs": [],
   "source": [
    "Draw.ShowMol(mol, size=(150,150), kekulize=False)"
   ]
  },
  {
   "cell_type": "markdown",
   "metadata": {},
   "source": [
    "* 保存图片MolToFile(mol, filename, size, kekulize, wedgeBonds, ...)<br />\n",
    "参数基本同上"
   ]
  },
  {
   "cell_type": "code",
   "execution_count": 26,
   "metadata": {},
   "outputs": [],
   "source": [
    "Draw.MolToFile(mol, 'data/output.png', size=(150, 150))"
   ]
  },
  {
   "cell_type": "markdown",
   "metadata": {},
   "source": [
    "## 批量展示"
   ]
  },
  {
   "cell_type": "markdown",
   "metadata": {},
   "source": [
    "### 从DataFrame中展示"
   ]
  },
  {
   "cell_type": "markdown",
   "metadata": {},
   "source": [
    "* 从df中展示：FrameToGridImage(frame, column, molsPerRow, subImgSize, legendsCol, ...)<br />\n",
    "frame：DataFrame对象<br />\n",
    "column：rdkit mol对象所在列<br />\n",
    "molsPerRow,：每行显示的分子数<br />\n",
    "subImgSize：图片大小<br />\n",
    "legendsCol：标题所在列"
   ]
  },
  {
   "cell_type": "code",
   "execution_count": 34,
   "metadata": {},
   "outputs": [
    {
     "data": {
      "image/png": "[encoded data removed]",
      "text/plain": [
       "<PIL.PngImagePlugin.PngImageFile image mode=RGB size=1000x200 at 0xA079788>"
      ]
     },
     "execution_count": 34,
     "metadata": {},
     "output_type": "execute_result"
    }
   ],
   "source": [
    "df = pd.read_csv('data/smiles_df.csv')\n",
    "PandasTools.AddMoleculeColumnToFrame(df,'SMILES','mol',includeFingerprints=True)\n",
    "img = PandasTools.FrameToGridImage(df, column='mol', molsPerRow=5, subImgSize=(200,200), legendsCol='Name')\n",
    "img"
   ]
  },
  {
   "cell_type": "markdown",
   "metadata": {},
   "source": [
    "* 保存"
   ]
  },
  {
   "cell_type": "code",
   "execution_count": 29,
   "metadata": {},
   "outputs": [],
   "source": [
    "img.save('data/df.png')  "
   ]
  },
  {
   "cell_type": "markdown",
   "metadata": {},
   "source": [
    "### 从mol列表中展示"
   ]
  },
  {
   "cell_type": "markdown",
   "metadata": {},
   "source": [
    "* 从列表生成分子结构：MolsToGridImage(mols, maxMols, molsPerRow, subImgSize, legends, ...)<br />\n",
    "部分参数和上面的一致<br />\n",
    "mols：mol对象列表<br />\n",
    "maxMols：最多显示的分子数 <br />\n",
    "molsPerRow,：每行显示的分子数<br />\n",
    "subImgSize：图片大小<br />\n",
    "legends：标题<br />"
   ]
  },
  {
   "cell_type": "code",
   "execution_count": 36,
   "metadata": {},
   "outputs": [
    {
     "data": {
      "image/png": "[encoded data removed]",
      "text/plain": [
       "<PIL.PngImagePlugin.PngImageFile image mode=RGB size=600x300 at 0xA077E08>"
      ]
     },
     "execution_count": 36,
     "metadata": {},
     "output_type": "execute_result"
    }
   ],
   "source": [
    "warnings.filterwarnings(\"ignore\")\n",
    "mols = df.mol.tolist()\n",
    "legends = df.Name.tolist()\n",
    "img = Draw.MolsToGridImage(mols, maxMols=2, molsPerRow=2, subImgSize=(300,300), legends=legends)  \n",
    "img"
   ]
  },
  {
   "cell_type": "code",
   "execution_count": null,
   "metadata": {},
   "outputs": [],
   "source": [
    "img.save('data/mols.png')  "
   ]
  },
  {
   "cell_type": "markdown",
   "metadata": {},
   "source": [
    "## 3D展示"
   ]
  },
  {
   "cell_type": "markdown",
   "metadata": {},
   "source": [
    "* 转换3D时，为了得到靠谱的三维构象，一般先加氢：AddHs(mol)\n",
    "* 通过距离几何算法计算3D坐标：EmbedMolecule(mol, randomSeed, ...)<br />\n",
    "mol：mol对象<br />\n",
    "randomSeed：随机种子\n",
    "\n",
    "* 转换完后再进行一步力场优化，比如MMFF94：MMFFOptimizeMolecule(mol)"
   ]
  },
  {
   "cell_type": "code",
   "execution_count": 29,
   "metadata": {},
   "outputs": [
    {
     "data": {
      "text/plain": [
       "1"
      ]
     },
     "execution_count": 29,
     "metadata": {},
     "output_type": "execute_result"
    }
   ],
   "source": [
    "m3d = Chem.MolFromSmiles('CNC(=O)N(N(CCCl)S(C)(=O)=O)S(C)(=O)=O')\n",
    "m3d = Chem.AddHs(m3d)\n",
    "AllChem.EmbedMolecule(m3d, randomSeed=3)\n",
    "AllChem.MMFFOptimizeMolecule(m3d)"
   ]
  },
  {
   "cell_type": "code",
   "execution_count": 30,
   "metadata": {},
   "outputs": [
    {
     "data": {
      "image/png": "[encoded data removed]",
      "text/plain": [
       "<PIL.PngImagePlugin.PngImageFile image mode=RGB size=250x250 at 0x92FC188>"
      ]
     },
     "execution_count": 30,
     "metadata": {},
     "output_type": "execute_result"
    }
   ],
   "source": [
    "Draw.MolToImage(m3d, size=(250,250))"
   ]
  }
 ],
 "metadata": {
  "kernelspec": {
   "display_name": "Python 3",
   "language": "python",
   "name": "python3"
  },
  "language_info": {
   "codemirror_mode": {
    "name": "ipython",
    "version": 3
   },
   "file_extension": ".py",
   "mimetype": "text/x-python",
   "name": "python",
   "nbconvert_exporter": "python",
   "pygments_lexer": "ipython3",
   "version": "3.7.4"
  },
  "toc-autonumbering": true
 },
 "nbformat": 4,
 "nbformat_minor": 4
}
