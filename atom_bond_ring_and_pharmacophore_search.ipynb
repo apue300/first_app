{
 "cells": [
  {
   "cell_type": "markdown",
   "metadata": {},
   "source": [
    "# 分子基础操作与药效团查找"
   ]
  },
  {
   "cell_type": "markdown",
   "metadata": {},
   "source": [
    "## 1.原子操作"
   ]
  },
  {
   "cell_type": "markdown",
   "metadata": {},
   "source": [
    "在rdkit中，分子中的每一个原子都是对象，可以通过原子对象的属性和函数来获取各种信息。\n",
    "- 对原子进行遍历：m.GetAtoms()\n",
    "- 获取原子索引：GetIdx()\n",
    "- 获取原子序号：GetAtomicNum()\n",
    "- 获取原子符号：GetSymbol()\n",
    "- 获取原子连接数（受H是否隐藏影响）：GetDegree()\n",
    "- 获取原子总连接数（与H是否隐藏无关）：GetTotalDegree()\n",
    "- 获取原子形式电荷：GetFormalCharge()\n",
    "- 获取原子杂化方式：GetHybridization()\n",
    "- 获取原子显式化合价：GetExplicitValence()\n",
    "- 获取原子隐式化合价：GetImplicitValence()\n",
    "- 获取原子总的化合价：GetTotalValence()\n",
    "- ..."
   ]
  },
  {
   "cell_type": "code",
   "execution_count": 1,
   "metadata": {},
   "outputs": [
    {
     "name": "stdout",
     "output_type": "stream",
     "text": [
      "id\tnum\tsymbol\tdegree\tcharge\thybrid\n",
      "0\t6\tC\t2\t0\tSP3\n",
      "1\t8\tO\t2\t0\tSP3\n",
      "2\t6\tC\t2\t0\tSP3\n"
     ]
    }
   ],
   "source": [
    "from rdkit import Chem\n",
    "m = Chem.MolFromSmiles('C1OC1')\n",
    "print('\\t'.join(['id', 'num', 'symbol', 'degree', 'charge', 'hybrid']))\n",
    "for atom in m.GetAtoms():\n",
    "    print(atom.GetIdx(), end='\\t')\n",
    "    print(atom.GetAtomicNum(), end='\\t')\n",
    "    print(atom.GetSymbol(), end='\\t')\n",
    "    print(atom.GetDegree(), end='\\t')\n",
    "    print(atom.GetFormalCharge(), end='\\t')\n",
    "    print(atom.GetHybridization())"
   ]
  },
  {
   "cell_type": "markdown",
   "metadata": {},
   "source": [
    "- 也可以通过索引获取原子：GetAtomWithIdx()"
   ]
  },
  {
   "cell_type": "code",
   "execution_count": 2,
   "metadata": {},
   "outputs": [
    {
     "name": "stdout",
     "output_type": "stream",
     "text": [
      "C\n"
     ]
    }
   ],
   "source": [
    "print(m.GetAtomWithIdx(0).GetSymbol())"
   ]
  },
  {
   "cell_type": "markdown",
   "metadata": {},
   "source": [
    "- 获取相连的原子：GetNeighbors()"
   ]
  },
  {
   "cell_type": "code",
   "execution_count": 3,
   "metadata": {},
   "outputs": [
    {
     "data": {
      "text/plain": [
       "[6, 6]"
      ]
     },
     "execution_count": 3,
     "metadata": {},
     "output_type": "execute_result"
    }
   ],
   "source": [
    "atom = m.GetAtomWithIdx(1)\n",
    "[x.GetAtomicNum() for x in atom.GetNeighbors()]"
   ]
  },
  {
   "cell_type": "markdown",
   "metadata": {},
   "source": [
    "## 2.键操作\n",
    "同样，每一个键也都是对象，可以通过属性和函数来获取键的信息。\n",
    "- 对键进行遍历：m.GetBonds()\n",
    "- 获取键的索引：GetIdx()\n",
    "- 获取键的类型：GetGetBondType()\n",
    "- 以数字形式显示键的类型：GetBondTypeAsDouble()\n",
    "- 是否为芳香键：GetIsAromatic()\n",
    "- 是否为共轭键：GetIsConjugated()\n",
    "- 是否在环中：IsInRing()\n",
    "- 是否在n元环中：IsInRingSize(n)\n",
    "- 获取起始原子：GetBeginAtom()\n",
    "- 获取末尾原子：GetEndAtom()\n",
    "- ..."
   ]
  },
  {
   "cell_type": "code",
   "execution_count": 4,
   "metadata": {},
   "outputs": [
    {
     "name": "stdout",
     "output_type": "stream",
     "text": [
      "id\ttype\tdouble\taromic\tconjug\tring\tbegin\tend\n",
      "0\tDOUBLE\t2.0\tFalse\tTrue\tFalse\t0\t1\n",
      "1\tSINGLE\t1.0\tFalse\tTrue\tFalse\t1\t2\n",
      "2\tDOUBLE\t2.0\tFalse\tTrue\tFalse\t2\t3\n"
     ]
    }
   ],
   "source": [
    "m = Chem.MolFromSmiles('C=C-C=C')\n",
    "print('\\t'.join(['id', 'type', 'double', 'aromic', 'conjug', 'ring', 'begin', 'end']))\n",
    "for bond in m.GetBonds():\n",
    "    print(bond.GetIdx(), end='\\t')\n",
    "    print(bond.GetBondType(), end='\\t')\n",
    "    print(bond.GetBondTypeAsDouble(), end='\\t')\n",
    "    print(bond.GetIsAromatic(), end='\\t')\n",
    "    print(bond.GetIsConjugated(), end='\\t')\n",
    "    print(bond.IsInRing(), end='\\t')\n",
    "    print(bond.GetBeginAtomIdx(), end='\\t')\n",
    "    print(bond.GetEndAtomIdx())  "
   ]
  },
  {
   "cell_type": "markdown",
   "metadata": {},
   "source": [
    "- 也可以通过索引获取键：GetBondWithIdx()"
   ]
  },
  {
   "cell_type": "code",
   "execution_count": 5,
   "metadata": {},
   "outputs": [
    {
     "name": "stdout",
     "output_type": "stream",
     "text": [
      "DOUBLE\n"
     ]
    }
   ],
   "source": [
    "print(m.GetBondWithIdx(0).GetBondType())"
   ]
  },
  {
   "cell_type": "markdown",
   "metadata": {},
   "source": [
    "## 3.环操作\n",
    "- 查看原子的环信息"
   ]
  },
  {
   "cell_type": "code",
   "execution_count": 6,
   "metadata": {},
   "outputs": [
    {
     "name": "stdout",
     "output_type": "stream",
     "text": [
      "False\n",
      "True\n",
      "True\n"
     ]
    },
    {
     "data": {
      "image/png": "[encoded data removed]",
      "text/plain": [
       "<rdkit.Chem.rdchem.Mol at 0x4f7d8a0>"
      ]
     },
     "execution_count": 6,
     "metadata": {},
     "output_type": "execute_result"
    }
   ],
   "source": [
    "m = Chem.MolFromSmiles('OC1C2C1CC2')\n",
    "print(m.GetAtomWithIdx(0).IsInRing())\n",
    "print(m.GetAtomWithIdx(2).IsInRing())\n",
    "print(m.GetAtomWithIdx(2).IsInRingSize(3))\n",
    "m"
   ]
  },
  {
   "cell_type": "code",
   "execution_count": 7,
   "metadata": {},
   "outputs": [],
   "source": [
    "Chem.Draw.MolToFile(m, 'data/atom_bond_ring_1.png')"
   ]
  },
  {
   "cell_type": "markdown",
   "metadata": {},
   "source": [
    "- 但是要注意，IsInRingSize()函数只能判断是否在最小的环中"
   ]
  },
  {
   "cell_type": "code",
   "execution_count": 8,
   "metadata": {},
   "outputs": [
    {
     "name": "stdout",
     "output_type": "stream",
     "text": [
      "True\n",
      "False\n"
     ]
    }
   ],
   "source": [
    "print(m.GetAtomWithIdx(2).IsInRingSize(3))\n",
    "print(m.GetAtomWithIdx(2).IsInRingSize(5))"
   ]
  },
  {
   "cell_type": "markdown",
   "metadata": {},
   "source": [
    "- 可以查看所有最小环(smallest set of smallest rings, SSSR）的信息：GetSymmSSSR()"
   ]
  },
  {
   "cell_type": "code",
   "execution_count": 9,
   "metadata": {},
   "outputs": [
    {
     "name": "stdout",
     "output_type": "stream",
     "text": [
      "2\n",
      "[1, 2, 3]\n",
      "[4, 5, 2, 3]\n"
     ]
    }
   ],
   "source": [
    "ssr = Chem.GetSymmSSSR(m)\n",
    "print(len(ssr))\n",
    "print(list(ssr[0]))\n",
    "print(list(ssr[1]))"
   ]
  },
  {
   "cell_type": "markdown",
   "metadata": {},
   "source": [
    "- 直接获取环的信息：GetRingInfo()\n",
    "- 查看一共有几个环：NumRings()\n",
    "- 查看原子在几个环中：NumAtomRings()\n",
    "- 查看id为n的原子是否在n1元环中.IsAtomInRingOfSize(n, n1)\n",
    "- 查看id为n的键是否在n1元环中.IsAtomInRingOfSize(n , n1)"
   ]
  },
  {
   "cell_type": "code",
   "execution_count": 10,
   "metadata": {},
   "outputs": [
    {
     "name": "stdout",
     "output_type": "stream",
     "text": [
      "2\n",
      "0\n",
      "True\n",
      "True\n"
     ]
    }
   ],
   "source": [
    "ri = m.GetRingInfo()\n",
    "print(ri.NumRings())\n",
    "print(ri.NumAtomRings(6))\n",
    "print(ri.IsAtomInRingOfSize(1,3))\n",
    "print(ri.IsBondInRingOfSize(1,3))"
   ]
  },
  {
   "cell_type": "markdown",
   "metadata": {},
   "source": [
    "## 4.手动实现氧族药效团查找\n",
    "这里只做一个简单的演示，通过原子属性查找目标药效团，更复杂的操作类似。\n",
    "- 假设要查找的氧族氢供体标准：氧或硫原子，不带电荷，含有1个氢。\n",
    "- 氧族氢受体标准（部分）：不带氢原子，化合价为2，且不与氮原子相连。"
   ]
  },
  {
   "cell_type": "code",
   "execution_count": 11,
   "metadata": {},
   "outputs": [
    {
     "data": {
      "text/plain": [
       "{1: [8, 'HAcceptor'], 3: [8, 'HAcceptor'], 4: [8, 'HDonor']}"
      ]
     },
     "execution_count": 11,
     "metadata": {},
     "output_type": "execute_result"
    }
   ],
   "source": [
    "def pharmacophore(m):\n",
    "    atomPharma = {}\n",
    "    # 定义氧族原子\n",
    "    chalcogen = [8, 16]\n",
    "    mol = Chem.MolFromSmiles(m)\n",
    "    mol = Chem.AddHs(mol)\n",
    "    # 开始查找\n",
    "    for atom in mol.GetAtoms():\n",
    "        p = []\n",
    "        if atom.GetAtomicNum() == 1 or atom.GetAtomicNum() not in chalcogen:\n",
    "            continue\n",
    "        else:\n",
    "            # 氢供体\n",
    "            if atom.GetFormalCharge() == 0:\n",
    "                nbrs = [x for x in atom.GetNeighbors()]\n",
    "                HDflag = False\n",
    "                for nbr in nbrs:\n",
    "                    if nbr.GetAtomicNum() == 1:\n",
    "                        HDflag = True\n",
    "                if HDflag:\n",
    "                    p.append('HDonor')\n",
    "                    \n",
    "            # 氢受体\n",
    "            if atom.GetTotalValence() == 2:\n",
    "                nbrs = [x for x in atom.GetNeighbors()]\n",
    "                HAflag_1 = True\n",
    "                HAflag_2 = True\n",
    "                if len(nbrs) == 1:\n",
    "                    nbr = nbrs[0]\n",
    "                    if nbr.GetAtomicNum() == 7:\n",
    "                        HAflag_1 = False\n",
    "                else:\n",
    "                    for nbr in nbrs:\n",
    "                        if nbr.GetAtomicNum() == 1:\n",
    "                            HAflag_2 = False\n",
    "                if HAflag_1 and HAflag_2:\n",
    "                    p.append('HAcceptor')\n",
    "        atomPharma[atom.GetIdx()] = [atom.GetAtomicNum(), ' '.join(p)]\n",
    "    return atomPharma\n",
    "\n",
    "m = 'COC(=O)O'\n",
    "res = pharmacophore(m)\n",
    "res"
   ]
  },
  {
   "cell_type": "markdown",
   "metadata": {},
   "source": [
    "更简单的操作，直接写成SMARTS查找就可以了\n",
    "- 氢供体：[O,S;H1;+0]\n",
    "- 氢受体（部分）：[O;H0;v2;!$(O=N-*)] "
   ]
  },
  {
   "cell_type": "code",
   "execution_count": 12,
   "metadata": {},
   "outputs": [
    {
     "data": {
      "text/plain": [
       "{4: [8, 'HDonor'], 1: [8, 'HAcceptor'], 3: [8, 'HAcceptor']}"
      ]
     },
     "execution_count": 12,
     "metadata": {},
     "output_type": "execute_result"
    }
   ],
   "source": [
    "def pharmacophore_smarts(m):\n",
    "    # 定义smarts\n",
    "    HDonorSmarts = '[O,S;H1;+0]'\n",
    "    HAcceptorSmarts = '[O;H0;v2;!$(O=N-*)]'\n",
    "    HDonor = Chem.MolFromSmarts(HDonorSmarts)\n",
    "    HAcceptor = Chem.MolFromSmarts(HAcceptorSmarts)\n",
    "    atomPharma = {}\n",
    "    mol = Chem.MolFromSmiles(m)\n",
    "    # 氢供体\n",
    "    HDonors = mol.GetSubstructMatches(HDonor)\n",
    "    for i in HDonors:\n",
    "        atom = mol.GetAtomWithIdx(i[0])\n",
    "        atomPharma[atom.GetIdx()] = [atom.GetAtomicNum(), 'HDonor']\n",
    "    # 氢受体\n",
    "    HAcceptors = mol.GetSubstructMatches(HAcceptor)\n",
    "    for i in HAcceptors:\n",
    "        atom = mol.GetAtomWithIdx(i[0])\n",
    "        atom_prop = atomPharma.get(atom.GetIdx(), [])\n",
    "        if atom_prop:\n",
    "            atom_prop[1] = atom_prop[1] + ' HAcceptor'\n",
    "            atomPharma.update({atom.GetIdx():atom_prop})\n",
    "        else:\n",
    "            atomPharma[atom.GetIdx()] = [atom.GetAtomicNum(), 'HAcceptor']\n",
    "    return atomPharma\n",
    "\n",
    "res = pharmacophore_smarts(m)\n",
    "res"
   ]
  }
 ],
 "metadata": {
  "kernelspec": {
   "display_name": "Python 3",
   "language": "python",
   "name": "python3"
  },
  "language_info": {
   "codemirror_mode": {
    "name": "ipython",
    "version": 3
   },
   "file_extension": ".py",
   "mimetype": "text/x-python",
   "name": "python",
   "nbconvert_exporter": "python",
   "pygments_lexer": "ipython3",
   "version": "3.7.4"
  }
 },
 "nbformat": 4,
 "nbformat_minor": 4
}
