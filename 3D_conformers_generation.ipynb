{
 "cells": [
  {
   "cell_type": "code",
   "execution_count": 1,
   "metadata": {},
   "outputs": [],
   "source": [
    "from rdkit import Chem\n",
    "from rdkit.Chem import AllChem\n",
    "from rdkit.Chem import Draw"
   ]
  },
  {
   "cell_type": "markdown",
   "metadata": {},
   "source": [
    "# 一、构象生成算法概述\n",
    "\n",
    "先来了解两种rdkit生成3D构象的方法：\n",
    "\n",
    "## 1.基于距离（distance-based）\n",
    "\n",
    "传统的距离几何（Distance Geometry）法生成构象步骤：\n",
    "* (1) 通过分子的连接表信息和一套规则，生成分子的连接边界矩阵（molecule’s distance bounds matrix ）\n",
    "* (2) 使用三角形边界平滑算法（triangle-bounds smoothing algorithm），对边界矩阵进行平滑处理\n",
    "* (3) 根据边界矩阵，随机产生一个距离矩阵。\n",
    "* (4) 把产生的距离矩阵映射到三维空间中，并为每个原子计算坐标。\n",
    "* (5) 对计算的坐标结果使用力场和边界矩阵进行粗略的优化。\n",
    "\n",
    "## 2.基于知识（knowledge-based）\n",
    "\n",
    "Riniker和Landrum开发了一种（Experimental-Torsion Basic Knowledge Distance Geometry，ETKDG）的方法。他们从晶体结构数据库的小分子结构中总结了一些规则（扭转角的倾向性，torsion angle preference，符合某种SMARTS的结构更倾向于生成某种固定的构象），并用这套规则来修正距离几何算法产生的构象。如果使用了ETKDG，就可以不再使用力场进行优化了。\n",
    "\n",
    "在rdkit中，目前已经将ETKDG作为默认的构象生成方法。使用代码实现这种方法比上面的废话都要简单，两行代码就能搞定了。"
   ]
  },
  {
   "cell_type": "code",
   "execution_count": null,
   "metadata": {},
   "outputs": [],
   "source": [
    "m3d=Chem.AddHs(m)\n",
    "AllChem.EmbedMolecule(m3d, randomSeed=1)"
   ]
  },
  {
   "cell_type": "markdown",
   "metadata": {},
   "source": [
    "# 二、代码实现\n",
    "* 添加氢原子\n",
    "* 距离几何算法生成3D结构\n",
    "* 距离几何+ETKDG生成3D构象\n",
    "* 距离几何+ETKDG生成多构象\n",
    "* 距离几何+ETKDG+MMFF生成3D构象\n",
    "* 距离几何+ETKDG+MMFF生成多构象\n",
    "* 多线程执行\n"
   ]
  },
  {
   "cell_type": "markdown",
   "metadata": {},
   "source": [
    "## 1.添加氢原子\n",
    "\n",
    "* **加氢：Chem.AddHs()**\n",
    "\n",
    "在rdkit中，分子在默认情况下是不显示氢的，但氢原子对于真实的几何构象计算有很大的影响，所以在计算3D构象前，需要使用Chem.AddHs()方法加上氢原子。\n",
    "* **减氢：Chem.RemoveHs()**\n",
    "\n",
    "相对应的，可以使用该方法把氢去除。"
   ]
  },
  {
   "cell_type": "code",
   "execution_count": 4,
   "metadata": {},
   "outputs": [
    {
     "name": "stdout",
     "output_type": "stream",
     "text": [
      "32 54\n"
     ]
    }
   ],
   "source": [
    "m = Chem.MolFromSmiles('CC1=CC=C(C=C1)NC2=C3C(=C(C=C2)NC4=CC=C(C=C4)C)C(=O)C5=CC=CC=C5C3=O')\n",
    "m3d = Chem.AddHs(m)\n",
    "print(m.GetNumAtoms(), m3d.GetNumAtoms())"
   ]
  },
  {
   "cell_type": "markdown",
   "metadata": {},
   "source": [
    "## 2.距离几何算法生成3D结构\n",
    "使用距离几何初始化3D坐标。\n",
    "* **生成3D构象：AllChem.EmbedMolecule(mol, randomSeed, clearConfs, useExpTorsionAnglePrefs, useBasicKnowledge, ...)**<br />\n",
    "mol：传入mol对象<br />\n",
    "randomSeed：随机种子，方便结果重复<br />\n",
    "clearConfs：清除已有构象，默认True<br />\n",
    "useExpTorsionAnglePrefs和useBasicKnowledge两个参数即控制是否使用先验知识，默认都为True"
   ]
  },
  {
   "cell_type": "code",
   "execution_count": 5,
   "metadata": {},
   "outputs": [
    {
     "data": {
      "image/png": "[encoded data removed]",
      "text/plain": [
       "<PIL.PngImagePlugin.PngImageFile image mode=RGB size=250x250 at 0x7A5BB88>"
      ]
     },
     "execution_count": 5,
     "metadata": {},
     "output_type": "execute_result"
    }
   ],
   "source": [
    "AllChem.EmbedMolecule(m3d, randomSeed=10, useExpTorsionAnglePrefs=False, useBasicKnowledge=False)\n",
    "Draw.MolToImage(m3d, size=(250,250))"
   ]
  },
  {
   "cell_type": "markdown",
   "metadata": {},
   "source": [
    "## 3.距离几何+ETKDG生成3D构象\n",
    "\n",
    "* **生成3D构象：AllChem.EmbedMolecule()**<br />\n",
    "先用距离几何初始化3D坐标，再使用ETKDG算法优化<br />\n",
    "参数同上，默认useExpTorsionAnglePrefs和useBasicKnowledge为True"
   ]
  },
  {
   "cell_type": "code",
   "execution_count": 6,
   "metadata": {},
   "outputs": [
    {
     "data": {
      "image/png": "[encoded data removed]",
      "text/plain": [
       "<PIL.PngImagePlugin.PngImageFile image mode=RGB size=250x250 at 0x7A5C108>"
      ]
     },
     "execution_count": 6,
     "metadata": {},
     "output_type": "execute_result"
    }
   ],
   "source": [
    "AllChem.EmbedMolecule(m3d, randomSeed=10)\n",
    "Draw.MolToImage(m3d, size=(250,250))"
   ]
  },
  {
   "cell_type": "markdown",
   "metadata": {},
   "source": [
    "## 4.距离几何+ETKDG生成多构象\n",
    "无论使用哪种方法，都可以对一个分子生成许多构象，实现也很简单，无非使用不同的随机种子，多跑几次距离几何的计算过程就行了。\n",
    "* **生成多个构象：AllChem.EmbedMultipleConfs(mol, numConfs, maxAttempts, randomSeed, clearConfs, pruneRmsThresh, useExpTorsionAnglePrefs, useBasicKnowledge, ...)**<br />\n",
    "其中numConfs控制了生成构象的个数。<br />\n",
    "mol：mol对象<br />\n",
    "numConfs：生成的构象数量<br />\n",
    "maxAttempts：尝试生成构象的最多次数<br />\n",
    "randomSeed：随机种子<br />\n",
    "clearConfs：清除已有构象<br />\n",
    "pruneRmsThresh：根据RMS进行合并<br />\n",
    "ETKDG相关参数同上"
   ]
  },
  {
   "cell_type": "code",
   "execution_count": 7,
   "metadata": {},
   "outputs": [
    {
     "name": "stdout",
     "output_type": "stream",
     "text": [
      "10\n"
     ]
    }
   ],
   "source": [
    "cids = AllChem.EmbedMultipleConfs(m3d, numConfs=10)\n",
    "print(len(cids))"
   ]
  },
  {
   "cell_type": "markdown",
   "metadata": {},
   "source": [
    "* **获取某个构象GetConformer(id)**<br />\n",
    "通过传入id获取指定构象"
   ]
  },
  {
   "cell_type": "code",
   "execution_count": 8,
   "metadata": {},
   "outputs": [],
   "source": [
    "conf1 = m3d.GetConformer(id=1)"
   ]
  },
  {
   "cell_type": "markdown",
   "metadata": {},
   "source": [
    "* **计算不同构象间的差异：AlignMolConformers(mol, RMSlist, ...)**<br />\n",
    "对同一分子不同的构象先进行重叠排列，再计算RMS（root mean square）值<br />\n",
    "RMSlist：用于接收RMS的列表，它由第一个构象与剩余9个构象依次比对产生"
   ]
  },
  {
   "cell_type": "code",
   "execution_count": 9,
   "metadata": {},
   "outputs": [
    {
     "name": "stdout",
     "output_type": "stream",
     "text": [
      "9\n"
     ]
    }
   ],
   "source": [
    "rmslist = []\n",
    "AllChem.AlignMolConformers(m3d, RMSlist=rmslist)\n",
    "print(len(rmslist))"
   ]
  },
  {
   "cell_type": "markdown",
   "metadata": {},
   "source": [
    "* **也可以计算任意两个指定构象的RMS值：GetConformerRMS(mol, confId1, confId2, atomIds, prealigned)**<br />\n",
    "confId1：第一个构象<br />\n",
    "confId2：第二个构象<br />\n",
    "atomIds：需要对比的原子，默认全部<br />\n",
    "prealigned：构象是否已经对齐，默认False（没有时，函数会自动将它们对齐）"
   ]
  },
  {
   "cell_type": "code",
   "execution_count": 10,
   "metadata": {},
   "outputs": [
    {
     "data": {
      "text/plain": [
       "1.5515373147254072"
      ]
     },
     "execution_count": 10,
     "metadata": {},
     "output_type": "execute_result"
    }
   ],
   "source": [
    "AllChem.GetConformerRMS(m3d, 1, 9, prealigned=True)"
   ]
  },
  {
   "cell_type": "markdown",
   "metadata": {},
   "source": [
    "## 5.距离几何+ETKDG+MMFF生成3D构象\n",
    "对距离几何产生的构象，进行ETKDG优化后，还可以继续使用MMFF94等力场进行优化。不过需要注意的是，MMFF力场中的原子类型编码采用了自身的芳香性模型，因此在使用MMFF相关方法后，分子的芳香属性（aromaticity flags）会改变。\n",
    "\n",
    "* **使用MMFF94进行优化构象：MMFFOptimizeMolecule(mol, mmffVariant, maxIters, ...)**<br />\n",
    "mmffVariant：可选\"MMFF94\"或\"MMFF94s\"，默认MMFF94<br />\n",
    "maxIters：最多迭代次数，默认200"
   ]
  },
  {
   "cell_type": "code",
   "execution_count": 11,
   "metadata": {},
   "outputs": [
    {
     "data": {
      "image/png": "[encoded data removed]",
      "text/plain": [
       "<PIL.PngImagePlugin.PngImageFile image mode=RGB size=250x250 at 0x7A6A788>"
      ]
     },
     "execution_count": 11,
     "metadata": {},
     "output_type": "execute_result"
    }
   ],
   "source": [
    "AllChem.EmbedMolecule(m3d, randomSeed=10)\n",
    "AllChem.MMFFOptimizeMolecule(m3d)\n",
    "Draw.MolToImage(m3d, size=(250,250))"
   ]
  },
  {
   "cell_type": "markdown",
   "metadata": {},
   "source": [
    "## 6.距离几何+ETKDG+MMFF生成多构象\n",
    "其实当使用ETKDG算法生成3D构象时，通常无需再使用MMFF94力场优化。如果执意要这么做，有一个方便的函数可以调用\n",
    "* **使用MMFF94优化多个构象：MMFFOptimizeMoleculeConfs()**\n",
    "* 返回的结果是元组组成的列表，每个元组表示每个构象的优化结果和能量(not_converged, energy)。如果not_converged是0，则收敛，接近最稳态，否则没有到达最稳态。"
   ]
  },
  {
   "cell_type": "code",
   "execution_count": 25,
   "metadata": {},
   "outputs": [
    {
     "data": {
      "text/plain": [
       "[(1, 102.41616335129055),\n",
       " (1, 102.33441584635808),\n",
       " (0, 102.42225287052568),\n",
       " (0, 102.32720200607255),\n",
       " (0, 102.33441556018424),\n",
       " (1, 102.41616372820093),\n",
       " (0, 102.4222529195194),\n",
       " (1, 102.33475547464988),\n",
       " (1, 102.33463971478054),\n",
       " (1, 102.32720685759661)]"
      ]
     },
     "execution_count": 25,
     "metadata": {},
     "output_type": "execute_result"
    }
   ],
   "source": [
    "cids = AllChem.EmbedMultipleConfs(m3d, numConfs=10, randomSeed=5)\n",
    "res = AllChem.MMFFOptimizeMoleculeConfs(m3d)\n",
    "res"
   ]
  },
  {
   "cell_type": "markdown",
   "metadata": {},
   "source": [
    "* 可以看到部分构象还没有收敛，尝试把maxIters参数调高到500，全部收敛。"
   ]
  },
  {
   "cell_type": "code",
   "execution_count": 26,
   "metadata": {},
   "outputs": [
    {
     "data": {
      "text/plain": [
       "[(0, 102.4161632241324),\n",
       " (0, 102.33441575541717),\n",
       " (0, 102.42225287052568),\n",
       " (0, 102.32720200607255),\n",
       " (0, 102.33441556018424),\n",
       " (0, 102.41616359925332),\n",
       " (0, 102.4222529195194),\n",
       " (0, 102.33441440334724),\n",
       " (0, 102.33441442488092),\n",
       " (0, 102.32720166633483)]"
      ]
     },
     "execution_count": 26,
     "metadata": {},
     "output_type": "execute_result"
    }
   ],
   "source": [
    "cids = AllChem.EmbedMultipleConfs(m3d, numConfs=10, randomSeed=5)\n",
    "res = AllChem.MMFFOptimizeMoleculeConfs(m3d, maxIters=500)\n",
    "res"
   ]
  },
  {
   "cell_type": "markdown",
   "metadata": {},
   "source": [
    "## 7.多线程\n",
    "* EmbedMultipleConfs()\n",
    "* MMFFOptimizeMoleculeConfs()<br />\n",
    "默认情况下，这两个方法都是单进程。当想使用多进程时，可以通过numThreads参数进行设置。<br />\n",
    "numThreads：默认为1。设置为0表示将会使用本机最大线程数执行"
   ]
  },
  {
   "cell_type": "code",
   "execution_count": 27,
   "metadata": {},
   "outputs": [],
   "source": [
    "cids = AllChem.EmbedMultipleConfs(m3d, numThreads=0)\n",
    "res = AllChem.MMFFOptimizeMoleculeConfs(m3d, numThreads=0)"
   ]
  },
  {
   "cell_type": "markdown",
   "metadata": {},
   "source": [
    "# 三、结语\n",
    "\n",
    "最后需要注意的是，构象生成是一项复杂且漫长的工作。rdkit生成的3D结构并不能取代真实的构象，它仅仅为需要3D结构的场景提供了一种快速实现的方法。不过，rdkit提供的ETKDG方法还是可以满足大多数3D需求场景的。"
   ]
  }
 ],
 "metadata": {
  "kernelspec": {
   "display_name": "Python 3",
   "language": "python",
   "name": "python3"
  },
  "language_info": {
   "codemirror_mode": {
    "name": "ipython",
    "version": 3
   },
   "file_extension": ".py",
   "mimetype": "text/x-python",
   "name": "python",
   "nbconvert_exporter": "python",
   "pygments_lexer": "ipython3",
   "version": "3.7.4"
  },
  "toc-autonumbering": false
 },
 "nbformat": 4,
 "nbformat_minor": 4
}
