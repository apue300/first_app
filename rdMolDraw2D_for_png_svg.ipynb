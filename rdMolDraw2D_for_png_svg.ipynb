{
 "cells": [
  {
   "cell_type": "markdown",
   "metadata": {},
   "source": [
    "# 一、绘制png：MolDraw2DCairo\n",
    "* 首先，创建一个Cairo drawer：Chem.Draw.rdMolDraw2D.MolDraw2DCairo(arg1, arg2)，同Chem.Draw.MolDraw2DCairo(arg1, arg2)\n",
    "arg1和arg2分别是绘制图像的长和宽\n",
    "* 接着，准备待绘制的分子：PrepareMolForDrawing(mol, kekulize=True ,addChiralHs=True, wedgeBonds=True, forceCoords=False)\n",
    "为了画出更好看的分子，需要进行一些预处理。可以处理的选项有：计算凯库勒式、手性中心补氢、手性中心添加楔形键、生成2D坐标\n",
    "* 开始绘制：DrawMolecule()\n",
    "* 结束绘制：FinishDrawing()\n",
    "* 输出结果：WriteDrawingText(file_name)"
   ]
  },
  {
   "cell_type": "code",
   "execution_count": 1,
   "metadata": {},
   "outputs": [],
   "source": [
    "from rdkit import Chem\n",
    "from rdkit.Chem.Draw import rdMolDraw2D\n",
    "from IPython.display import Image"
   ]
  },
  {
   "cell_type": "code",
   "execution_count": 2,
   "metadata": {},
   "outputs": [],
   "source": [
    "mol = Chem.MolFromSmiles('[H][C@](C)(O)F')\n",
    "d = rdMolDraw2D.MolDraw2DCairo(400, 200)\n",
    "tmp = rdMolDraw2D.PrepareMolForDrawing(mol)\n",
    "d.DrawMolecule(mol)\n",
    "d.FinishDrawing()\n",
    "d.WriteDrawingText('data/rdMolDraw2D_1.png')"
   ]
  },
  {
   "cell_type": "code",
   "execution_count": 3,
   "metadata": {},
   "outputs": [
    {
     "data": {
      "image/png": "[encoded data removed]",
      "text/plain": [
       "<IPython.core.display.Image object>"
      ]
     },
     "execution_count": 3,
     "metadata": {
      "image/png": {
       "width": 250
      }
     },
     "output_type": "execute_result"
    }
   ],
   "source": [
    "Image(filename = 'data/rdMolDraw2D_1.png', width=250)"
   ]
  },
  {
   "cell_type": "markdown",
   "metadata": {},
   "source": [
    "# 二、绘制svg：MolDraw2DSVG\n",
    "* 首先，创建一个svg drawer：Chem.Draw.rdMolDraw2D.MolDraw2DSVG(arg1, arg2)，同Chem.Draw.MolDraw2DSVG(arg1, arg2)\n",
    "arg1和arg2分别是绘制图像的长和宽\n",
    "* 接着，准备并绘制分子，两个步骤合二为一：PrepareAndDrawMolecule(drawer, mol, ...)\n",
    "* 结束绘制：FinishDrawing()\n",
    "* 获取结果：GetDrawingText(file_name)"
   ]
  },
  {
   "cell_type": "code",
   "execution_count": 4,
   "metadata": {},
   "outputs": [],
   "source": [
    "mol = Chem.MolFromSmiles('c1ccccc1')\n",
    "d = rdMolDraw2D.MolDraw2DSVG(150, 150)\n",
    "rdMolDraw2D.PrepareAndDrawMolecule(d, mol)\n",
    "d.FinishDrawing()\n",
    "svg = d.GetDrawingText()\n",
    "with open('data/rdMolDraw2D_2.svg', 'w') as f:\n",
    "    f.write(svg)"
   ]
  },
  {
   "cell_type": "markdown",
   "metadata": {},
   "source": [
    "![title](data/rdMolDraw2D_2.svg)"
   ]
  },
  {
   "cell_type": "markdown",
   "metadata": {},
   "source": [
    "# 三、绘制设置(svg设置类似)\n",
    "* 实例化一个参数器：do = rdMolDraw2D.MolDrawOptions()\n",
    "* 将分子键的宽度设置为4：do.bondLineWidth = 4\n",
    "* 将分子键的长度设置为30：do.fixedBondLength = 30\n",
    "* 将分子顺时针旋转30度：do.rotate = 30\n",
    "* 修改原子标签：do.atomLabels[2] = 'OH group'\n",
    "* 应用设置：SetDrawOptions(do)"
   ]
  },
  {
   "cell_type": "code",
   "execution_count": 5,
   "metadata": {},
   "outputs": [
    {
     "data": {
      "image/png": "[encoded data removed]",
      "text/plain": [
       "<IPython.core.display.Image object>"
      ]
     },
     "execution_count": 5,
     "metadata": {
      "image/png": {
       "width": 250
      }
     },
     "output_type": "execute_result"
    }
   ],
   "source": [
    "m = Chem.MolFromSmiles('[H][C@](C)(O)F')\n",
    "d = rdMolDraw2D.MolDraw2DCairo(150, 150)\n",
    "do = rdMolDraw2D.MolDrawOptions()\n",
    "do.bondLineWidth = 4\n",
    "do.fixedBondLength = 30\n",
    "do.rotate = 30\n",
    "do.atomLabels[2] = 'OH group'\n",
    "d.SetDrawOptions(do)\n",
    "rdMolDraw2D.PrepareAndDrawMolecule(d, m)\n",
    "d.FinishDrawing()\n",
    "d.WriteDrawingText('data/rdMolDraw2D_3.png')\n",
    "Image(filename='data/rdMolDraw2D_3.png', width=250)"
   ]
  },
  {
   "cell_type": "markdown",
   "metadata": {},
   "source": [
    "# 参考：\n",
    "https://github.com/Yosuyo/canvas_server/blob/master/structure.py"
   ]
  },
  {
   "cell_type": "code",
   "execution_count": null,
   "metadata": {},
   "outputs": [],
   "source": [
    "def createImage(smiles):\n",
    "    from rdkit import Chem\n",
    "    from rdkit.Chem import rdDepictor\n",
    "    from rdkit.Chem.Draw import rdMolDraw2D\n",
    "    from rdkit.Chem.Draw.MolDrawing import DrawingOptions\n",
    "\n",
    "    mol = Chem.MolFromSmiles(smiles)  # Penicillin\n",
    "    rdDepictor.Compute2DCoords(mol)  # for generating conformer ID\n",
    "    # create a drawer container\n",
    "    drawer = rdMolDraw2D.MolDraw2DSVG(300, 300)\n",
    "    # define drawer options\n",
    "    drawer.drawOptions().updateAtomPalette({k: (0, 0, 0) for k in DrawingOptions.elemDict.keys()})\n",
    "    drawer.SetLineWidth(2)\n",
    "    drawer.SetFontSize(1.0)\n",
    "    #\n",
    "    drawer.DrawMolecule(mol)\n",
    "    drawer.FinishDrawing()\n",
    "    # generate and write the svg strings\n",
    "    svg = drawer.GetDrawingText().replace('svg:', '')\n",
    "    with open(\"static/images/svgs/\"+smiles+\".svg\", \"w\") as f:\n",
    "        f.write(svg)\n",
    "\n",
    "def createImageHighlight(smiles, smarts):\n",
    "    from rdkit import Chem\n",
    "    from rdkit.Chem import AllChem\n",
    "    from rdkit.Chem import rdDepictor\n",
    "    from rdkit.Chem.Draw import rdMolDraw2D\n",
    "    from rdkit.Chem.Draw.MolDrawing import DrawingOptions\n",
    "\n",
    "    mol = Chem.MolFromSmiles(smiles)\n",
    "    patt = Chem.MolFromSmarts(smarts)\n",
    "    hitatoms = mol.GetSubstructMatches(patt) #反応部位のアトムインデックス\n",
    "    hitatomslist = []\n",
    "    for x in hitatoms:\n",
    "        hitatomslist += x\n",
    "    hitatomsSum = tuple(hitatomslist)\n",
    "    tm = rdMolDraw2D.PrepareMolForDrawing(mol)\n",
    "    rdDepictor.Compute2DCoords(mol)  # for generating conformer ID\n",
    "    # create a drawer container\n",
    "    drawer = rdMolDraw2D.MolDraw2DSVG(300, 300)\n",
    "    # define drawer options\n",
    "    drawer.drawOptions().updateAtomPalette({k: (0, 0, 0) for k in DrawingOptions.elemDict.keys()})\n",
    "    drawer.SetLineWidth(2)\n",
    "    drawer.SetFontSize(1.0)\n",
    "    drawer.drawOptions().setHighlightColour((0.95,0.7,0.95)) #ハイライトの色指定\n",
    "    drawer.DrawMolecule(tm, highlightAtoms=hitatomsSum)\n",
    "    drawer.FinishDrawing()\n",
    "    # generate and write the svg strings\n",
    "    svg = drawer.GetDrawingText().replace('svg:', '')\n",
    "    with open(\"static/images/svgs/\"+smiles+\"_\"+smarts+\".svg\", \"w\") as f:\n",
    "        f.write(svg)"
   ]
  }
 ],
 "metadata": {
  "kernelspec": {
   "display_name": "Python 3",
   "language": "python",
   "name": "python3"
  },
  "language_info": {
   "codemirror_mode": {
    "name": "ipython",
    "version": 3
   },
   "file_extension": ".py",
   "mimetype": "text/x-python",
   "name": "python",
   "nbconvert_exporter": "python",
   "pygments_lexer": "ipython3",
   "version": "3.7.6"
  }
 },
 "nbformat": 4,
 "nbformat_minor": 4
}
