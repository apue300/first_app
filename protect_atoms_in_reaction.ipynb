{
 "cells": [
  {
   "cell_type": "markdown",
   "metadata": {},
   "source": [
    "# 在化学反应中保护原子\n",
    "有时在使用rxn文件时，很难准确表达或全面考虑到每个细节，导致不需要的原子发生反应，并产生副产物。而rdkit也提供了保护原子的操作，避免不需要的原子参与到反应中。还是以形成酰胺键为例。"
   ]
  },
  {
   "cell_type": "markdown",
   "metadata": {},
   "source": [
    "## 1.rxn文件创建反应\n",
    " - 通过rxn文件创建一个反应模式：ReactionFromRxnFile()\n",
    " - 检查一下该反应：ReactionToImage()"
   ]
  },
  {
   "cell_type": "code",
   "execution_count": 1,
   "metadata": {},
   "outputs": [
    {
     "data": {
      "image/png": "[encoded data removed]",
      "text/plain": [
       "<PIL.PngImagePlugin.PngImageFile image mode=RGB size=1200x100 at 0x648DCC8>"
      ]
     },
     "execution_count": 1,
     "metadata": {},
     "output_type": "execute_result"
    }
   ],
   "source": [
    "import os\n",
    "from rdkit import Chem\n",
    "from rdkit.Chem import AllChem as Chem\n",
    "from rdkit import RDConfig\n",
    "rxn_file = os.path.join(RDConfig.RDDocsDir, 'Book\\data\\AmideBond.rxn')\n",
    "rxn = Chem.ReactionFromRxnFile(rxn_file)\n",
    "img = Chem.Draw.ReactionToImage(rxn, subImgSize=(300, 100))\n",
    "img"
   ]
  },
  {
   "cell_type": "code",
   "execution_count": 2,
   "metadata": {},
   "outputs": [],
   "source": [
    "img.save('data/protect_atoms_reaction_1.png')"
   ]
  },
  {
   "cell_type": "markdown",
   "metadata": {},
   "source": [
    "在这个反应中，氮原子只要连有氢原子，就可以发生反应。当使用一个已经含有酰胺键的化合物作为反应物时，同样也可以发生反应。\n",
    " - 设置反应物acid和base\n",
    " - 按照模式进行反应：rxn.RunReactants()\n",
    " - 对反应物进行核对：SanitizeMol()"
   ]
  },
  {
   "cell_type": "code",
   "execution_count": 3,
   "metadata": {},
   "outputs": [
    {
     "data": {
      "image/png": "[encoded data removed]",
      "text/plain": [
       "<PIL.PngImagePlugin.PngImageFile image mode=RGB size=500x250 at 0x6830A48>"
      ]
     },
     "execution_count": 3,
     "metadata": {},
     "output_type": "execute_result"
    }
   ],
   "source": [
    "acid = Chem.MolFromSmiles('CC(=O)O')\n",
    "base = Chem.MolFromSmiles('CC(=O)NCCN')\n",
    "ps = rxn.RunReactants((acid,base))\n",
    "[Chem.SanitizeMol(x[0]) for x in ps]\n",
    "img = Chem.Draw.MolsToGridImage([x[0] for x in ps], molsPerRow=2, subImgSize=(250, 250))\n",
    "img"
   ]
  },
  {
   "cell_type": "code",
   "execution_count": 4,
   "metadata": {},
   "outputs": [],
   "source": [
    "img.save('data/protect_atoms_reaction_2.png')"
   ]
  },
  {
   "cell_type": "markdown",
   "metadata": {},
   "source": [
    "## 2.保护目标原子\n",
    "如果不想让酰胺氮原子发生反应，可以将它保护起来\n",
    " - 将要保护的基团转成SMARTS，记录在amidep中\n",
    " - 在反应物中查找所有符合amidep的子结构\n",
    " - 遍历每个符合的子结构，设置属性，键为\"_protected\"，值随意"
   ]
  },
  {
   "cell_type": "code",
   "execution_count": 5,
   "metadata": {},
   "outputs": [],
   "source": [
    "amidep = Chem.MolFromSmarts('[N;$(NC=[O,S])]')\n",
    "for match in base.GetSubstructMatches(amidep):\n",
    "    base.GetAtomWithIdx(match[0]).SetProp('_protected', '1')"
   ]
  },
  {
   "cell_type": "markdown",
   "metadata": {},
   "source": [
    " - 再进行反应，被保护的基团就不会发生反应了"
   ]
  },
  {
   "cell_type": "code",
   "execution_count": 6,
   "metadata": {},
   "outputs": [
    {
     "name": "stdout",
     "output_type": "stream",
     "text": [
      "1\n"
     ]
    },
    {
     "data": {
      "text/plain": [
       "'CC(=O)NCCNC(C)=O'"
      ]
     },
     "execution_count": 6,
     "metadata": {},
     "output_type": "execute_result"
    }
   ],
   "source": [
    "ps = rxn.RunReactants((acid,base))\n",
    "print(len(ps))\n",
    "Chem.MolToSmiles(ps[0][0])"
   ]
  }
 ],
 "metadata": {
  "kernelspec": {
   "display_name": "Python 3",
   "language": "python",
   "name": "python3"
  },
  "language_info": {
   "codemirror_mode": {
    "name": "ipython",
    "version": 3
   },
   "file_extension": ".py",
   "mimetype": "text/x-python",
   "name": "python",
   "nbconvert_exporter": "python",
   "pygments_lexer": "ipython3",
   "version": "3.7.4"
  }
 },
 "nbformat": 4,
 "nbformat_minor": 4
}
