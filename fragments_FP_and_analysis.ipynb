{
 "cells": [
  {
   "cell_type": "markdown",
   "metadata": {},
   "source": [
    "# 分子片段、片段指纹与指纹重要性分析"
   ]
  },
  {
   "cell_type": "markdown",
   "metadata": {},
   "source": [
    "## 1.分子片段生成\n",
    "分子片段（Molecular Fragments）是一组相连的原子，并可能包含有相关官能团。在rdkit中提供了一系列用于分析、操作分子片段的工具。说起来比较抽象，操作起来也比较抽象。\n",
    "* 获取官能团库：RDConfig.RDDataDir目录下的'FunctionalGroups.txt'\n",
    "* 根据官能团库实例化一个参数器：FragmentCatalog.FragCatParams()"
   ]
  },
  {
   "cell_type": "code",
   "execution_count": 1,
   "metadata": {},
   "outputs": [],
   "source": [
    "import os\n",
    "from rdkit import Chem\n",
    "from rdkit.Chem import Draw\n",
    "from rdkit.Chem import RDConfig\n",
    "from rdkit.Chem import FragmentCatalog\n",
    "fName = os.path.join(RDConfig.RDDataDir, 'FunctionalGroups.txt')\n",
    "fparams = FragmentCatalog.FragCatParams(1, 6, fName)"
   ]
  },
  {
   "cell_type": "code",
   "execution_count": 2,
   "metadata": {},
   "outputs": [],
   "source": [
    "# 感兴趣的可以查看一下该库的内容\n",
    "with open(fName) as f:\n",
    "    file = f.read()\n",
    "# print(file)"
   ]
  },
  {
   "cell_type": "markdown",
   "metadata": {},
   "source": [
    "* 查看库中包含的官能团数量：GetNumFuncGroups()\n",
    "* 查看每个官能团对应的基团：GetFuncGroup()"
   ]
  },
  {
   "cell_type": "code",
   "execution_count": 3,
   "metadata": {},
   "outputs": [
    {
     "name": "stdout",
     "output_type": "stream",
     "text": [
      "39\n"
     ]
    },
    {
     "data": {
      "image/png": "[encoded data removed]",
      "text/plain": [
       "<rdkit.Chem.rdchem.Mol at 0x6378da0>"
      ]
     },
     "execution_count": 3,
     "metadata": {},
     "output_type": "execute_result"
    }
   ],
   "source": [
    "print(fparams.GetNumFuncGroups())\n",
    "m = fparams.GetFuncGroup(0)\n",
    "m"
   ]
  },
  {
   "cell_type": "code",
   "execution_count": 4,
   "metadata": {},
   "outputs": [],
   "source": [
    "Draw.MolToFile(m, 'data/fragments_fp_1.png', (150, 150))"
   ]
  },
  {
   "cell_type": "markdown",
   "metadata": {},
   "source": [
    "* 传入参数器，创建一个片段存储器：FragmentCatalog.FragCatalog()<br />\n",
    "产生的分子片段都会存储在该对象中<br />\n",
    "* 创建一个片段生成器：FragmentCatalog.FragCatGenerator()<br />\n",
    "通过该对象生成片段<br />\n",
    "* 计算分子片段：AddFragsFromMol()\n",
    "* 查看分子片段数量：GetNumEntries()"
   ]
  },
  {
   "cell_type": "code",
   "execution_count": 5,
   "metadata": {},
   "outputs": [
    {
     "data": {
      "text/plain": [
       "3"
      ]
     },
     "execution_count": 5,
     "metadata": {},
     "output_type": "execute_result"
    }
   ],
   "source": [
    "m = Chem.MolFromSmiles('OCC=CC(=O)O')\n",
    "fcat = FragmentCatalog.FragCatalog(fparams)\n",
    "fcgen = FragmentCatalog.FragCatGenerator()\n",
    "fcgen.AddFragsFromMol(m, fcat)\n",
    "fcat.GetNumEntries()"
   ]
  },
  {
   "cell_type": "markdown",
   "metadata": {},
   "source": [
    "* 通过存储器查看片段：fcat.GetEntryDescription()<br />\n",
    "尖括号中的内容：表示与片段相连的官能团，以下面的结果为例：<br />\n",
    "第0号片段中，对应着一个乙基片段，该乙基与一个羟基相连。<br />\n",
    "第1号片段中，对应着一个乙烯片段，该乙烯与一个羧基相连。"
   ]
  },
  {
   "cell_type": "code",
   "execution_count": 6,
   "metadata": {},
   "outputs": [
    {
     "name": "stdout",
     "output_type": "stream",
     "text": [
      "C<-O>C\n",
      "C=C<-C(=O)O>\n"
     ]
    }
   ],
   "source": [
    "print(fcat.GetEntryDescription(0))\n",
    "print(fcat.GetEntryDescription(1))"
   ]
  },
  {
   "cell_type": "markdown",
   "metadata": {},
   "source": [
    "关于官能团的详细信息，可以通过下述方法获取：\n",
    "* 向存储器传入分子片段id，获取片段中所包含的官能团编号：fcat.GetEntryFuncGroupIds()\n",
    "* 向参数器传入官能团编号，获取官能团对应的mol对象：fparams.GetFuncGroup()"
   ]
  },
  {
   "cell_type": "code",
   "execution_count": 7,
   "metadata": {},
   "outputs": [
    {
     "name": "stdout",
     "output_type": "stream",
     "text": [
      "[34]\n",
      "*-[O&D1]\n",
      "-O\n"
     ]
    }
   ],
   "source": [
    "print(list(fcat.GetEntryFuncGroupIds(0)))\n",
    "funcgroup = fparams.GetFuncGroup(34)\n",
    "print(Chem.MolToSmarts(funcgroup))\n",
    "print(funcgroup.GetProp('_Name'))"
   ]
  },
  {
   "cell_type": "markdown",
   "metadata": {},
   "source": [
    "提取得到的片段是层级结构，小片段在最底层，逐渐合并形成大片段。可以查看一个小片段形成了哪些大片段。\n",
    "* 根据id获取片段：fcat.GetEntryDescription()\n",
    "* 获取上级片段id：fcat.GetEntryDownIds()"
   ]
  },
  {
   "cell_type": "code",
   "execution_count": 8,
   "metadata": {},
   "outputs": [
    {
     "name": "stdout",
     "output_type": "stream",
     "text": [
      "C<-O>C\n"
     ]
    },
    {
     "data": {
      "text/plain": [
       "[2]"
      ]
     },
     "execution_count": 8,
     "metadata": {},
     "output_type": "execute_result"
    }
   ],
   "source": [
    "print(fcat.GetEntryDescription(0))\n",
    "list(fcat.GetEntryDownIds(0))"
   ]
  },
  {
   "cell_type": "markdown",
   "metadata": {},
   "source": [
    "* 根据上级片段id，获取上级片段信息"
   ]
  },
  {
   "cell_type": "code",
   "execution_count": 9,
   "metadata": {},
   "outputs": [
    {
     "data": {
      "text/plain": [
       "'C<-C(=O)O>=CC<-O>'"
      ]
     },
     "execution_count": 9,
     "metadata": {},
     "output_type": "execute_result"
    }
   ],
   "source": [
    "fcat.GetEntryDescription(2)"
   ]
  },
  {
   "cell_type": "markdown",
   "metadata": {},
   "source": [
    "## 2.片段指纹生成\n",
    "* 先将多个分子的片段汇总到一个片段存储器中"
   ]
  },
  {
   "cell_type": "code",
   "execution_count": 10,
   "metadata": {},
   "outputs": [
    {
     "data": {
      "text/plain": [
       "17"
      ]
     },
     "execution_count": 10,
     "metadata": {},
     "output_type": "execute_result"
    }
   ],
   "source": [
    "ms = [Chem.MolFromSmiles('OCC(NC1CC1)CCC'), Chem.MolFromSmiles('OCC=CC(=O)O')]\n",
    "fcat = FragmentCatalog.FragCatalog(fparams)\n",
    "for m in ms:\n",
    "    fcgen.AddFragsFromMol(m, fcat)\n",
    "fcat.GetNumEntries()"
   ]
  },
  {
   "cell_type": "markdown",
   "metadata": {},
   "source": [
    "存储器收集完所有片段后，再用它来生成分子指纹\n",
    "* 创建一个片段指纹生成器：FragFPGenerator()\n",
    "* 传入分子和存储器来生成指纹：GetFPForMol(mol, fcat)\n",
    "* 以字符串形式查看指纹：ToBitString()\n",
    "* 查看指纹中哪些位是有效的：GetOnBits()"
   ]
  },
  {
   "cell_type": "code",
   "execution_count": 11,
   "metadata": {},
   "outputs": [
    {
     "name": "stdout",
     "output_type": "stream",
     "text": [
      "10000000000000011\n",
      "[0, 15, 16]\n"
     ]
    }
   ],
   "source": [
    "fpgen = FragmentCatalog.FragFPGenerator()\n",
    "fp1 = fpgen.GetFPForMol(ms[1], fcat)\n",
    "print(fp1.ToBitString())\n",
    "print(list(fp1.GetOnBits()))"
   ]
  },
  {
   "cell_type": "markdown",
   "metadata": {},
   "source": [
    "可以用处理一般分子指纹的方法来处理片段分子指纹，例如寻找相同的片段\n",
    "* 先对分子指纹做一步“&”位运算，两个指纹都为1时，结果为1，否则为0\n",
    "* 获取两个指纹中都出现的片段：GetOnBits()\n",
    "* 查看片段信息：GetEntryDescription()"
   ]
  },
  {
   "cell_type": "code",
   "execution_count": 12,
   "metadata": {},
   "outputs": [
    {
     "data": {
      "text/plain": [
       "'C<-O>C'"
      ]
     },
     "execution_count": 12,
     "metadata": {},
     "output_type": "execute_result"
    }
   ],
   "source": [
    "fp0 = fpgen.GetFPForMol(ms[0], fcat)\n",
    "andfp = fp0 & fp1\n",
    "onbit = list(andfp.GetOnBits())\n",
    "fcat.GetEntryDescription(onbit[0])"
   ]
  },
  {
   "cell_type": "markdown",
   "metadata": {},
   "source": [
    "也可以按上述思路查看一下哪些片段导致了分子的不同\n",
    "* 对分子指纹做“^”运算，两个指纹相同时，结果为0，否则为1。再做一步“&”运算\n",
    "* 按上述方法查看相异片段"
   ]
  },
  {
   "cell_type": "code",
   "execution_count": 13,
   "metadata": {},
   "outputs": [
    {
     "data": {
      "text/plain": [
       "'CCCC(C<-O>)N<-cPropyl>'"
      ]
     },
     "execution_count": 13,
     "metadata": {},
     "output_type": "execute_result"
    }
   ],
   "source": [
    "dis = fp0 ^ fp1\n",
    "combinedfp = fp0 & dis\n",
    "onbit = list(combinedfp.GetOnBits())\n",
    "fcat.GetEntryDescription(onbit[-1])"
   ]
  },
  {
   "cell_type": "markdown",
   "metadata": {},
   "source": [
    "## 3.指纹重要性分析\n",
    "这里主要介绍指纹对离散标签的重要性分析。在rdkit.ML.InfoTheory.rdInfoTheory.InfoBitRanker中提供了对指纹分析的功能。这个类可以根据分子指纹和离散标签，对特征进行计算和排序，看看哪些特征对活性比较重要。\n",
    "* 先对163个分子生成片段指纹，完整代码如下"
   ]
  },
  {
   "cell_type": "code",
   "execution_count": 14,
   "metadata": {},
   "outputs": [
    {
     "name": "stdout",
     "output_type": "stream",
     "text": [
      "163 8266\n"
     ]
    }
   ],
   "source": [
    "sdf_file = os.path.join(RDConfig.RDDocsDir, 'Book/data/bzr.sdf')\n",
    "suppl = Chem.SDMolSupplier(sdf_file)\n",
    "sdms = [x for x in suppl]\n",
    "\n",
    "# 获取官能团库\n",
    "fName = os.path.join(RDConfig.RDDataDir, 'FunctionalGroups.txt')\n",
    "# 片段参数器\n",
    "fparams = FragmentCatalog.FragCatParams(1, 6, fName)\n",
    "# 片段存储器\n",
    "fcat = FragmentCatalog.FragCatalog(fparams)\n",
    "# 片段生成器\n",
    "fcgen = FragmentCatalog.FragCatGenerator()\n",
    "# 片段指纹生成器\n",
    "fpgen = FragmentCatalog.FragFPGenerator()\n",
    "# 汇总所有片段\n",
    "for m in sdms:\n",
    "    fcgen.AddFragsFromMol(m, fcat)\n",
    "# 生成片段指纹\n",
    "fps = [fpgen.GetFPForMol(x, fcat) for x in sdms]\n",
    "print(len(fps), fps[0].GetNumBits())"
   ]
  },
  {
   "cell_type": "markdown",
   "metadata": {},
   "source": [
    "* 信息增益（infoGain）分析，实例化一个排序对象：InfoBitRanker(nBits, nClasses, infoType)<br />\n",
    "nBits：指纹长度<br />\n",
    "nClasses：类别数量，需要和标签满足的关系：0 <= 标签 < 类别数量<br />\n",
    "infoType：度量指标。默认使用rdInfoTheory.InfoType.ENTROPY，即信息增益作为比较标准，它反映了使用某个特征进行分类后，系统混乱程度降低的多少，数值越大表明特征越重要。<br />"
   ]
  },
  {
   "cell_type": "code",
   "execution_count": 15,
   "metadata": {},
   "outputs": [],
   "source": [
    "from rdkit.ML import InfoTheory\n",
    "ranker = InfoTheory.InfoBitRanker(len(fps[0]), 2)"
   ]
  },
  {
   "cell_type": "markdown",
   "metadata": {},
   "source": [
    "* 获取每个分子的活性信息：GetDoubleProp('ACTIVITY')\n",
    "* 以7作为标准对活性离散化，大于7为1，小于7为0\n",
    "* 根据指纹和类别进行投票：AccumulateVotes(fp, act)\n",
    "* 获取前5个重要特征：GetTopN(5)\n",
    "* 依次输出特征id、信息增益、特征为1类别中的无活性分子数、特征为1类别中的有活性分子数。"
   ]
  },
  {
   "cell_type": "code",
   "execution_count": 16,
   "metadata": {},
   "outputs": [
    {
     "name": "stdout",
     "output_type": "stream",
     "text": [
      "698 0.081 20 17\n",
      "222 0.073 23 25\n",
      "378 0.073 30 43\n",
      "196 0.073 30 43\n",
      "1207 0.073 0 25\n"
     ]
    }
   ],
   "source": [
    "acts = [x.GetDoubleProp('ACTIVITY') for x in sdms]\n",
    "for i,fp in enumerate(fps):\n",
    "    act = int(acts[i]>7)\n",
    "    ranker.AccumulateVotes(fp,act)\n",
    "top5 = ranker.GetTopN(5)\n",
    "for id, gain, n0, n1 in top5:\n",
    "    print(int(id), '%.3f'%gain, int(n0), int(n1))"
   ]
  },
  {
   "cell_type": "markdown",
   "metadata": {},
   "source": [
    "* 加入偏置，以信息增益为例，重新设置infoType\n",
    "* 设置偏置类别：SetBiasList()<br />\n",
    "在这种模式下，一个特征与所设置了偏置类别的相关性要高于所有非偏置类别，例如设置偏置类别为4，某位特征为1对应的标签中，类别为4的数量应该大于其他类别的数量。"
   ]
  },
  {
   "cell_type": "code",
   "execution_count": 17,
   "metadata": {},
   "outputs": [
    {
     "name": "stdout",
     "output_type": "stream",
     "text": [
      "698 0.081 20 17\n",
      "222 0.073 23 25\n",
      "378 0.073 30 43\n",
      "196 0.073 30 43\n",
      "2375 0.062 5 0\n"
     ]
    }
   ],
   "source": [
    "ranker = InfoTheory.InfoBitRanker(len(fps[0]), 2, InfoTheory.InfoType.BIASENTROPY)\n",
    "ranker.SetBiasList((0,))\n",
    "acts = [x.GetDoubleProp('ACTIVITY') for x in sdms]\n",
    "for i,fp in enumerate(fps):\n",
    "    act = 0 if acts[i]<7 else 1\n",
    "    ranker.AccumulateVotes(fp, act)\n",
    "top5 = ranker.GetTopN(5)\n",
    "for id, gain, n0, n1 in top5:\n",
    "    print(int(id), '%.3f'%gain, int(n0), int(n1))"
   ]
  },
  {
   "cell_type": "markdown",
   "metadata": {},
   "source": [
    "* 使用卡方检验（chi squared test），将infoType设置为如下参数，其他相同"
   ]
  },
  {
   "cell_type": "code",
   "execution_count": 18,
   "metadata": {},
   "outputs": [
    {
     "name": "stdout",
     "output_type": "stream",
     "text": [
      "698 20.023 20 17\n",
      "222 17.451 23 25\n",
      "378 16.242 30 43\n",
      "196 16.242 30 43\n",
      "2375 14.861 5 0\n"
     ]
    }
   ],
   "source": [
    "ranker = InfoTheory.InfoBitRanker(len(fps[0]), 2, InfoTheory.InfoType.CHISQUARE)\n",
    "for i,fp in enumerate(fps):\n",
    "    act = int(acts[i]>7)\n",
    "    ranker.AccumulateVotes(fp, act)\n",
    "top5 = ranker.GetTopN(5)\n",
    "for id, gain, n0, n1 in top5:\n",
    "    print(int(id), '%.3f'%gain, int(n0), int(n1))"
   ]
  },
  {
   "cell_type": "markdown",
   "metadata": {},
   "source": [
    "* 带偏置的卡方检验同上，重新设置infoType为InfoTheory.InfoType.BIASCHISQUARE即可"
   ]
  }
 ],
 "metadata": {
  "kernelspec": {
   "display_name": "Python 3",
   "language": "python",
   "name": "python3"
  },
  "language_info": {
   "codemirror_mode": {
    "name": "ipython",
    "version": 3
   },
   "file_extension": ".py",
   "mimetype": "text/x-python",
   "name": "python",
   "nbconvert_exporter": "python",
   "pygments_lexer": "ipython3",
   "version": "3.7.4"
  }
 },
 "nbformat": 4,
 "nbformat_minor": 4
}
